{
  "cells": [
    {
      "cell_type": "markdown",
      "metadata": {
        "id": "view-in-github",
        "colab_type": "text"
      },
      "source": [
        "<a href=\"https://colab.research.google.com/github/arumugammani02/Numpy_tasks/blob/main/Numpy_tasks_2.ipynb\" target=\"_parent\"><img src=\"https://colab.research.google.com/assets/colab-badge.svg\" alt=\"Open In Colab\"/></a>"
      ]
    },
    {
      "cell_type": "markdown",
      "metadata": {
        "id": "p01SEr3Q72FK"
      },
      "source": [
        "# Numpy\n",
        "\n"
      ]
    },
    {
      "cell_type": "markdown",
      "metadata": {
        "id": "btgj5-AT72FP"
      },
      "source": [
        "#### 1. Import the numpy package under the name `np` (★☆☆) \n",
        "(**hint**: import … as …)"
      ]
    },
    {
      "cell_type": "code",
      "execution_count": null,
      "metadata": {
        "collapsed": true,
        "id": "vfNtjUDH72FQ"
      },
      "outputs": [],
      "source": [
        "import numpy as np"
      ]
    },
    {
      "cell_type": "markdown",
      "metadata": {
        "id": "b7oleOYF72FQ"
      },
      "source": [
        "#### 2. Print the numpy version and the configuration (★☆☆) \n",
        "(**hint**: np.\\_\\_version\\_\\_, np.show\\_config)"
      ]
    },
    {
      "cell_type": "code",
      "execution_count": null,
      "metadata": {
        "colab": {
          "base_uri": "https://localhost:8080/"
        },
        "id": "8-3GhQnh72FR",
        "outputId": "da0f471e-d3c8-4f66-f3aa-6f57cf3e59af"
      },
      "outputs": [
        {
          "output_type": "stream",
          "name": "stdout",
          "text": [
            "blas_mkl_info:\n",
            "  NOT AVAILABLE\n",
            "blis_info:\n",
            "  NOT AVAILABLE\n",
            "openblas_info:\n",
            "    libraries = ['openblas', 'openblas']\n",
            "    library_dirs = ['/usr/local/lib']\n",
            "    language = c\n",
            "    define_macros = [('HAVE_CBLAS', None)]\n",
            "    runtime_library_dirs = ['/usr/local/lib']\n",
            "blas_opt_info:\n",
            "    libraries = ['openblas', 'openblas']\n",
            "    library_dirs = ['/usr/local/lib']\n",
            "    language = c\n",
            "    define_macros = [('HAVE_CBLAS', None)]\n",
            "    runtime_library_dirs = ['/usr/local/lib']\n",
            "lapack_mkl_info:\n",
            "  NOT AVAILABLE\n",
            "openblas_lapack_info:\n",
            "    libraries = ['openblas', 'openblas']\n",
            "    library_dirs = ['/usr/local/lib']\n",
            "    language = c\n",
            "    define_macros = [('HAVE_CBLAS', None)]\n",
            "    runtime_library_dirs = ['/usr/local/lib']\n",
            "lapack_opt_info:\n",
            "    libraries = ['openblas', 'openblas']\n",
            "    library_dirs = ['/usr/local/lib']\n",
            "    language = c\n",
            "    define_macros = [('HAVE_CBLAS', None)]\n",
            "    runtime_library_dirs = ['/usr/local/lib']\n",
            "Supported SIMD extensions in this NumPy install:\n",
            "    baseline = SSE,SSE2,SSE3\n",
            "    found = SSSE3,SSE41,POPCNT,SSE42,AVX,F16C,FMA3,AVX2\n",
            "    not found = AVX512F,AVX512CD,AVX512_KNL,AVX512_KNM,AVX512_SKX,AVX512_CLX,AVX512_CNL,AVX512_ICL\n"
          ]
        }
      ],
      "source": [
        "np.show_config()"
      ]
    },
    {
      "cell_type": "markdown",
      "metadata": {
        "id": "AzCLhvj_72FR"
      },
      "source": [
        "#### 3. Create a null vector of size 10 (★☆☆) \n",
        "(**hint**: np.zeros)"
      ]
    },
    {
      "cell_type": "code",
      "execution_count": null,
      "metadata": {
        "colab": {
          "base_uri": "https://localhost:8080/"
        },
        "id": "Sv4gIudQ72FR",
        "outputId": "a184f645-568e-4764-f797-995113122faa"
      },
      "outputs": [
        {
          "output_type": "stream",
          "name": "stdout",
          "text": [
            "[0. 0. 0. 0. 0. 0. 0. 0. 0. 0.]\n"
          ]
        }
      ],
      "source": [
        "z= np.zeros(10)\n",
        "print(z)"
      ]
    },
    {
      "cell_type": "markdown",
      "metadata": {
        "id": "RsN7T0Ko72FS"
      },
      "source": [
        "#### 4.  How to find the memory size of any array (★☆☆) \n",
        "(**hint**: size, itemsize)"
      ]
    },
    {
      "cell_type": "code",
      "execution_count": null,
      "metadata": {
        "colab": {
          "base_uri": "https://localhost:8080/"
        },
        "id": "aCsAjpRj72FS",
        "outputId": "4afa565d-52ec-4584-ada9-d685e22169f9"
      },
      "outputs": [
        {
          "output_type": "stream",
          "name": "stdout",
          "text": [
            "800 bytes\n"
          ]
        }
      ],
      "source": [
        "z= np.zeros((10,10))\n",
        "print(\"%d bytes\" % (z.size * z.itemsize))"
      ]
    },
    {
      "cell_type": "markdown",
      "metadata": {
        "id": "xwHwJ5b672FT"
      },
      "source": [
        "#### 5.  How to get the documentation of the numpy add function from the command line? (★☆☆) \n",
        "(**hint**: np.info)"
      ]
    },
    {
      "cell_type": "code",
      "execution_count": null,
      "metadata": {
        "collapsed": true,
        "colab": {
          "base_uri": "https://localhost:8080/",
          "height": 36
        },
        "id": "ntQsGb3F72FT",
        "outputId": "82df7f9e-5a03-43da-d33e-5dcd58e85cec"
      },
      "outputs": [
        {
          "output_type": "execute_result",
          "data": {
            "text/plain": [
              "'import numpy.info(numpy.add)'"
            ],
            "application/vnd.google.colaboratory.intrinsic+json": {
              "type": "string"
            }
          },
          "metadata": {},
          "execution_count": 247
        }
      ],
      "source": [
        "\"import numpy.info(numpy.add)\""
      ]
    },
    {
      "cell_type": "markdown",
      "metadata": {
        "id": "jTU31XYb72FT"
      },
      "source": [
        "#### 6.  Create a null vector of size 10 but the fifth value which is 1 (★☆☆) \n",
        "(**hint**: array\\[4\\])"
      ]
    },
    {
      "cell_type": "code",
      "execution_count": null,
      "metadata": {
        "colab": {
          "base_uri": "https://localhost:8080/"
        },
        "id": "JpZsY29t72FU",
        "outputId": "ec8aa318-2d29-45c4-97da-d45713ba1309"
      },
      "outputs": [
        {
          "output_type": "stream",
          "name": "stdout",
          "text": [
            "[0. 0. 0. 0. 1. 0. 0. 0. 0. 0.]\n"
          ]
        }
      ],
      "source": [
        "a=np.zeros(10)\n",
        "a[4]=1\n",
        "print(a)"
      ]
    },
    {
      "cell_type": "markdown",
      "metadata": {
        "id": "hzVNrvgT72FU"
      },
      "source": [
        "#### 7.  Create a vector with values ranging from 10 to 49 (★☆☆) \n",
        "(**hint**: np.arange)"
      ]
    },
    {
      "cell_type": "code",
      "execution_count": null,
      "metadata": {
        "colab": {
          "base_uri": "https://localhost:8080/"
        },
        "id": "4rfC6Irl72FU",
        "outputId": "d89217d4-5ddd-44e0-f8cd-a3c27c20a60b"
      },
      "outputs": [
        {
          "output_type": "stream",
          "name": "stdout",
          "text": [
            "[10 11 12 13 14 15 16 17 18 19 20 21 22 23 24 25 26 27 28 29 30 31 32 33\n",
            " 34 35 36 37 38 39 40 41 42 43 44 45 46 47 48 49]\n"
          ]
        }
      ],
      "source": [
        "a=np.arange(10,50)\n",
        "print(a)"
      ]
    },
    {
      "cell_type": "markdown",
      "metadata": {
        "id": "wm2qjORv72FV"
      },
      "source": [
        "#### 8.  Reverse a vector (first element becomes last) (★☆☆) \n",
        "(**hint**: array\\[::-1\\])"
      ]
    },
    {
      "cell_type": "code",
      "execution_count": null,
      "metadata": {
        "colab": {
          "base_uri": "https://localhost:8080/"
        },
        "id": "pYUs_PhX72FV",
        "outputId": "e1de4ff3-c68a-4036-efeb-29f37d809d62"
      },
      "outputs": [
        {
          "output_type": "stream",
          "name": "stdout",
          "text": [
            "[19 18 17 16 15 14 13 12 11 10  9  8  7  6  5  4  3  2  1  0]\n"
          ]
        }
      ],
      "source": [
        "a=np.arange(20)\n",
        "a=a[::-1]\n",
        "print(a)"
      ]
    },
    {
      "cell_type": "markdown",
      "metadata": {
        "id": "TLw8YL1K72FV"
      },
      "source": [
        "#### 9.  Create a 3x3 matrix with values ranging from 0 to 8 (★☆☆) \n",
        "(**hint**: reshape)"
      ]
    },
    {
      "cell_type": "code",
      "execution_count": null,
      "metadata": {
        "colab": {
          "base_uri": "https://localhost:8080/"
        },
        "id": "2QUrs5az72FV",
        "outputId": "c1169290-f109-43a2-87d6-ab83de6f880a"
      },
      "outputs": [
        {
          "output_type": "stream",
          "name": "stdout",
          "text": [
            "[[0 1 2]\n",
            " [3 4 5]\n",
            " [6 7 8]]\n"
          ]
        }
      ],
      "source": [
        "a=np.arange(9).reshape(3,3)\n",
        "print(a)"
      ]
    },
    {
      "cell_type": "markdown",
      "metadata": {
        "id": "B9MgeJ6R72FW"
      },
      "source": [
        "#### 10. Find indices of non-zero elements from \\[1,2,0,0,4,0\\] (★☆☆) \n",
        "(**hint**: np.nonzero)"
      ]
    },
    {
      "cell_type": "code",
      "execution_count": null,
      "metadata": {
        "colab": {
          "base_uri": "https://localhost:8080/"
        },
        "id": "57gZjjwZ72FW",
        "outputId": "f01971e4-27b7-487e-f05e-ad6796ef5b54"
      },
      "outputs": [
        {
          "output_type": "stream",
          "name": "stdout",
          "text": [
            "(array([0, 1, 4]),)\n"
          ]
        }
      ],
      "source": [
        "nz=np.nonzero([1,2,0,0,4,0])\n",
        "print(nz)"
      ]
    },
    {
      "cell_type": "markdown",
      "metadata": {
        "id": "u1cJJckZ72FW"
      },
      "source": [
        "#### 11. Create a 3x3 identity matrix (★☆☆) \n",
        "(**hint**: np.eye)"
      ]
    },
    {
      "cell_type": "code",
      "execution_count": null,
      "metadata": {
        "colab": {
          "base_uri": "https://localhost:8080/"
        },
        "id": "fHSFRfTL72FW",
        "outputId": "1ebcbd81-22e8-4722-cf99-44b182c758bf"
      },
      "outputs": [
        {
          "output_type": "stream",
          "name": "stdout",
          "text": [
            "[[1. 0. 0.]\n",
            " [0. 1. 0.]\n",
            " [0. 0. 1.]]\n"
          ]
        }
      ],
      "source": [
        "a=np.eye(3)\n",
        "print(a)"
      ]
    },
    {
      "cell_type": "markdown",
      "metadata": {
        "id": "8QkMU6pH72FW"
      },
      "source": [
        "#### 12. Create a 3x3x3 array with random values (★☆☆) \n",
        "(**hint**: np.random.random)"
      ]
    },
    {
      "cell_type": "code",
      "execution_count": null,
      "metadata": {
        "collapsed": true,
        "colab": {
          "base_uri": "https://localhost:8080/"
        },
        "id": "MKNeJkIf72FW",
        "outputId": "a2490ae1-b040-4266-ccb5-4e417b17d807"
      },
      "outputs": [
        {
          "output_type": "stream",
          "name": "stdout",
          "text": [
            "[[[0.78331418 0.61775688 0.02231101]\n",
            "  [0.6443836  0.11616513 0.12259868]\n",
            "  [0.83336902 0.50115545 0.52528513]]\n",
            "\n",
            " [[0.63452608 0.48766644 0.4195335 ]\n",
            "  [0.57343748 0.52076418 0.30172581]\n",
            "  [0.47727234 0.32602188 0.76469524]]\n",
            "\n",
            " [[0.04799002 0.08629319 0.24372934]\n",
            "  [0.07228542 0.01421087 0.2721598 ]\n",
            "  [0.82988291 0.56022302 0.28344429]]]\n"
          ]
        }
      ],
      "source": [
        "a=np.random.random((3,3,3))\n",
        "print(a)"
      ]
    },
    {
      "cell_type": "markdown",
      "metadata": {
        "id": "_5VSeua272FX"
      },
      "source": [
        "#### 13. Create a 10x10 array with random values and find the minimum and maximum values (★☆☆) \n",
        "(**hint**: min, max)"
      ]
    },
    {
      "cell_type": "code",
      "execution_count": null,
      "metadata": {
        "colab": {
          "base_uri": "https://localhost:8080/"
        },
        "id": "XJXOOh-072FX",
        "outputId": "4ecfd9c2-c9fb-4395-c8ff-75d02d06edba"
      },
      "outputs": [
        {
          "output_type": "stream",
          "name": "stdout",
          "text": [
            "0.008883092787802083 0.9960486812751635\n"
          ]
        }
      ],
      "source": [
        "A=np.random.random((10,10))\n",
        "Amin,Amax =A.min(),A.max()\n",
        "print(Amin,Amax)"
      ]
    },
    {
      "cell_type": "markdown",
      "metadata": {
        "id": "-qOF8GTb72FX"
      },
      "source": [
        "#### 14. Create a random vector of size 30 and find the mean value (★☆☆) \n",
        "(**hint**: mean)"
      ]
    },
    {
      "cell_type": "code",
      "execution_count": null,
      "metadata": {
        "colab": {
          "base_uri": "https://localhost:8080/"
        },
        "id": "LMPutTZA72FX",
        "outputId": "ed16b7bd-af07-4db6-d9ee-6056332f46cd"
      },
      "outputs": [
        {
          "output_type": "stream",
          "name": "stdout",
          "text": [
            "0.5009758681052571\n"
          ]
        }
      ],
      "source": [
        "a=np.random.random(30)\n",
        "b=a.mean()\n",
        "print(b)"
      ]
    },
    {
      "cell_type": "markdown",
      "metadata": {
        "id": "-TXcjqON72FX"
      },
      "source": [
        "#### 15. Create a 2d array with 1 on the border and 0 inside (★☆☆) \n",
        "(**hint**: array\\[1:-1, 1:-1\\])"
      ]
    },
    {
      "cell_type": "code",
      "execution_count": null,
      "metadata": {
        "colab": {
          "base_uri": "https://localhost:8080/"
        },
        "id": "FFxGKx_q72FX",
        "outputId": "eeb861c4-b0f6-4fbd-ffb5-55625d915cf6"
      },
      "outputs": [
        {
          "output_type": "stream",
          "name": "stdout",
          "text": [
            "[[1. 1. 1. 1. 1. 1. 1. 1. 1. 1.]\n",
            " [1. 0. 0. 0. 0. 0. 0. 0. 0. 1.]\n",
            " [1. 0. 0. 0. 0. 0. 0. 0. 0. 1.]\n",
            " [1. 0. 0. 0. 0. 0. 0. 0. 0. 1.]\n",
            " [1. 0. 0. 0. 0. 0. 0. 0. 0. 1.]\n",
            " [1. 0. 0. 0. 0. 0. 0. 0. 0. 1.]\n",
            " [1. 0. 0. 0. 0. 0. 0. 0. 0. 1.]\n",
            " [1. 0. 0. 0. 0. 0. 0. 0. 0. 1.]\n",
            " [1. 0. 0. 0. 0. 0. 0. 0. 0. 1.]\n",
            " [1. 1. 1. 1. 1. 1. 1. 1. 1. 1.]]\n"
          ]
        }
      ],
      "source": [
        "a=np.ones((10,10))\n",
        "a[1:-1,1:-1]=0\n",
        "print(a)"
      ]
    },
    {
      "cell_type": "markdown",
      "metadata": {
        "id": "jlRf7tIj72FX"
      },
      "source": [
        "#### 16. How to add a border (filled with 0's) around an existing array? (★☆☆) \n",
        "(**hint**: np.pad)"
      ]
    },
    {
      "cell_type": "code",
      "execution_count": null,
      "metadata": {
        "id": "wCzmcDxe72FY",
        "colab": {
          "base_uri": "https://localhost:8080/"
        },
        "outputId": "fff6ebda-dff0-4aaa-cc8e-fcdb832cbd66"
      },
      "outputs": [
        {
          "output_type": "stream",
          "name": "stdout",
          "text": [
            "[[0. 0. 0. 0. 0.]\n",
            " [0. 1. 1. 1. 0.]\n",
            " [0. 1. 1. 1. 0.]\n",
            " [0. 1. 1. 1. 0.]\n",
            " [0. 0. 0. 0. 0.]]\n"
          ]
        }
      ],
      "source": [
        "a=np.ones((3,3))\n",
        "a=np.pad(a, pad_width=1,mode='constant',constant_values=0)\n",
        "print(a)"
      ]
    },
    {
      "cell_type": "markdown",
      "metadata": {
        "id": "BM2Nf1dU72FY"
      },
      "source": [
        "#### 17. What is the result of the following expression? (★☆☆) \n",
        "(**hint**: NaN = not a number, inf = infinity)"
      ]
    },
    {
      "cell_type": "markdown",
      "metadata": {
        "id": "P5LXsdqd72FY"
      },
      "source": [
        "```python\n",
        "0 * np.nan\n",
        "np.nan == np.nan\n",
        "np.inf > np.nan\n",
        "np.nan - np.nan\n",
        "0.3 == 3 * 0.1\n",
        "```"
      ]
    },
    {
      "cell_type": "code",
      "execution_count": null,
      "metadata": {
        "id": "zL-TJG7772FY",
        "colab": {
          "base_uri": "https://localhost:8080/"
        },
        "outputId": "8d3e6e59-41b7-4606-c940-8e9e18cd5f30"
      },
      "outputs": [
        {
          "output_type": "execute_result",
          "data": {
            "text/plain": [
              "False"
            ]
          },
          "metadata": {},
          "execution_count": 259
        }
      ],
      "source": [
        "0*np.nan\n",
        "np.nan==np.nan\n",
        "np.inf > np.nan\n",
        "np.nan - np.nan\n",
        "np.nan in set([np.nan])\n",
        "0.3==3*0.1"
      ]
    },
    {
      "cell_type": "markdown",
      "metadata": {
        "id": "52jYkvVr72FY"
      },
      "source": [
        "#### 18. Create a 5x5 matrix with values 1,2,3,4 just below the diagonal (★☆☆) \n",
        "(**hint**: np.diag)"
      ]
    },
    {
      "cell_type": "code",
      "execution_count": null,
      "metadata": {
        "id": "Xfvc3t8m72FZ",
        "colab": {
          "base_uri": "https://localhost:8080/"
        },
        "outputId": "e10a0903-78a4-4132-ba2c-b05ddca61822"
      },
      "outputs": [
        {
          "output_type": "stream",
          "name": "stdout",
          "text": [
            "[[0 0 0 0 0]\n",
            " [1 0 0 0 0]\n",
            " [0 2 0 0 0]\n",
            " [0 0 3 0 0]\n",
            " [0 0 0 4 0]]\n"
          ]
        }
      ],
      "source": [
        "a=np.diag(1+np.arange(4),k=-1)\n",
        "print(a)"
      ]
    },
    {
      "cell_type": "markdown",
      "metadata": {
        "id": "ADVO2G5Y72FZ"
      },
      "source": [
        "#### 19. Create a 8x8 matrix and fill it with a checkerboard pattern (★☆☆) \n",
        "(**hint**: array\\[::2\\])"
      ]
    },
    {
      "cell_type": "code",
      "execution_count": null,
      "metadata": {
        "id": "pT14AY8872Fa",
        "colab": {
          "base_uri": "https://localhost:8080/"
        },
        "outputId": "4a7bcbcd-f934-4bc9-c493-b0e4716e73a5"
      },
      "outputs": [
        {
          "output_type": "stream",
          "name": "stdout",
          "text": [
            "[[0 1 0 1 0 1 0 1]\n",
            " [0 1 0 1 0 1 0 1]\n",
            " [0 1 0 1 0 1 0 1]\n",
            " [0 1 0 1 0 1 0 1]\n",
            " [0 1 0 1 0 1 0 1]\n",
            " [0 1 0 1 0 1 0 1]\n",
            " [0 1 0 1 0 1 0 1]\n",
            " [0 1 0 1 0 1 0 1]]\n"
          ]
        }
      ],
      "source": [
        "arr=np.ones(64,dtype=int)\n",
        "arr[::2]=0\n",
        "arr=arr.reshape((8,8))\n",
        "print(arr)"
      ]
    },
    {
      "cell_type": "markdown",
      "metadata": {
        "id": "72s0UDNt72Fa"
      },
      "source": [
        "#### 20. Consider a (6,7,8) shape array, what is the index (x,y,z) of the 100th element? \n",
        "(**hint**: np.unravel_index)"
      ]
    },
    {
      "cell_type": "code",
      "execution_count": null,
      "metadata": {
        "id": "xSdbzyTo72Fb",
        "colab": {
          "base_uri": "https://localhost:8080/"
        },
        "outputId": "fdfd0d65-8c4e-4944-cbb3-d2b95ef0a87c"
      },
      "outputs": [
        {
          "output_type": "stream",
          "name": "stdout",
          "text": [
            "(1, 5, 3)\n"
          ]
        }
      ],
      "source": [
        "print(np.unravel_index(99,(6,7,8)))"
      ]
    },
    {
      "cell_type": "markdown",
      "metadata": {
        "id": "-LH-AJvA72Fb"
      },
      "source": [
        "#### 21. Create a checkerboard 8x8 matrix using the tile function (★☆☆) \n",
        "(**hint**: np.tile)"
      ]
    },
    {
      "cell_type": "code",
      "execution_count": null,
      "metadata": {
        "id": "n-mAB8aK72Fb",
        "colab": {
          "base_uri": "https://localhost:8080/"
        },
        "outputId": "63addac0-74db-476a-fdff-6718579af1d9"
      },
      "outputs": [
        {
          "output_type": "stream",
          "name": "stdout",
          "text": [
            "[[0 1 0 1 0 1 0 1]\n",
            " [1 0 1 0 1 0 1 0]\n",
            " [0 1 0 1 0 1 0 1]\n",
            " [1 0 1 0 1 0 1 0]\n",
            " [0 1 0 1 0 1 0 1]\n",
            " [1 0 1 0 1 0 1 0]\n",
            " [0 1 0 1 0 1 0 1]\n",
            " [1 0 1 0 1 0 1 0]]\n"
          ]
        }
      ],
      "source": [
        "a=np.tile(np.array([[0,1],[1,0]]),(4,4))\n",
        "print(a)"
      ]
    },
    {
      "cell_type": "markdown",
      "metadata": {
        "id": "9ROV0qkm72Fb"
      },
      "source": [
        "#### 22. Normalize a 5x5 random matrix (★☆☆) \n",
        "(**hint**: (x - min) / (max - min))"
      ]
    },
    {
      "cell_type": "code",
      "execution_count": null,
      "metadata": {
        "id": "mB7NPast72Fb",
        "colab": {
          "base_uri": "https://localhost:8080/"
        },
        "outputId": "bf781829-f3ab-4041-e659-eef3123603b2"
      },
      "outputs": [
        {
          "output_type": "stream",
          "name": "stdout",
          "text": [
            "[[ inf  inf -inf -inf -inf]\n",
            " [ inf -inf  inf -inf -inf]\n",
            " [ inf  inf  inf -inf  inf]\n",
            " [-inf -inf -inf  inf -inf]\n",
            " [ inf  inf  inf -inf  inf]]\n"
          ]
        }
      ],
      "source": [
        "a=np.random.random((5,5))\n",
        "a=(a-np.mean(a))/(np.std(z))\n",
        "print(a)"
      ]
    },
    {
      "cell_type": "markdown",
      "metadata": {
        "id": "d-in-BAn72Fb"
      },
      "source": [
        "#### 23. Create a custom dtype that describes a color as four unsigned bytes (RGBA) (★☆☆) \n",
        "(**hint**: np.dtype)"
      ]
    },
    {
      "cell_type": "code",
      "execution_count": null,
      "metadata": {
        "collapsed": true,
        "id": "kuu_hWcw72Fb"
      },
      "outputs": [],
      "source": [
        "color=np.dtype([('r',np.ubyte),\n",
        "                ('g',np.ubyte),\n",
        "                ('b',np.ubyte),\n",
        "                ('a',np.ubyte)])"
      ]
    },
    {
      "cell_type": "markdown",
      "metadata": {
        "id": "2lXHUN5s72Fb"
      },
      "source": [
        "#### 24. Multiply a 5x3 matrix by a 3x2 matrix (real matrix product) (★☆☆) \n",
        "(**hint**: np.dot | @)"
      ]
    },
    {
      "cell_type": "code",
      "execution_count": null,
      "metadata": {
        "id": "M1SzbWLf72Fc",
        "colab": {
          "base_uri": "https://localhost:8080/"
        },
        "outputId": "78d94edd-63b4-44a3-c7a4-897c2be44655"
      },
      "outputs": [
        {
          "output_type": "stream",
          "name": "stdout",
          "text": [
            "[[3. 3.]\n",
            " [3. 3.]\n",
            " [3. 3.]\n",
            " [3. 3.]\n",
            " [3. 3.]]\n"
          ]
        }
      ],
      "source": [
        "a=np.dot(np.ones((5,3)),np.ones((3,2)))\n",
        "print(a)"
      ]
    },
    {
      "cell_type": "markdown",
      "metadata": {
        "id": "ncuxQ7uK72Fc"
      },
      "source": [
        "#### 25. Given a 1D array, negate all elements which are between 3 and 8, in place. (★☆☆) \n",
        "(**hint**: >, <=)"
      ]
    },
    {
      "cell_type": "code",
      "execution_count": null,
      "metadata": {
        "id": "yxE11v0O72Fc",
        "colab": {
          "base_uri": "https://localhost:8080/"
        },
        "outputId": "3dace8e5-b41f-4ab5-d45a-09b3d8b3b8a4"
      },
      "outputs": [
        {
          "output_type": "stream",
          "name": "stdout",
          "text": [
            "[ 0  1  2  3 -4 -5 -6 -7  8  9 10]\n"
          ]
        }
      ],
      "source": [
        "a=np.arange(11)\n",
        "a[(3<a)&(a<8)]*=-1\n",
        "print(a)"
      ]
    },
    {
      "cell_type": "markdown",
      "metadata": {
        "id": "njZr7Bfh72Fc"
      },
      "source": [
        "#### 26. What is the output of the following script? (★☆☆) \n",
        "(**hint**: np.sum)"
      ]
    },
    {
      "cell_type": "markdown",
      "metadata": {
        "id": "PLQhlYmp72Fc"
      },
      "source": [
        "```python\n",
        "# Author: Jake VanderPlas\n",
        "\n",
        "print(sum(range(5),-1))\n",
        "from numpy import *\n",
        "print(sum(range(5),-1))\n",
        "```"
      ]
    },
    {
      "cell_type": "code",
      "execution_count": null,
      "metadata": {
        "id": "644ew-ZO72Fc"
      },
      "outputs": [],
      "source": [
        "print(sum(range(5),-1))\n",
        "from numpy import *\n",
        "print(sum(range(5),-1))"
      ]
    },
    {
      "cell_type": "markdown",
      "metadata": {
        "id": "ZjJLbOrC72Fc"
      },
      "source": [
        "#### 27. Consider an integer vector Z, which of these expressions are legal? (★☆☆)"
      ]
    },
    {
      "cell_type": "markdown",
      "metadata": {
        "id": "kxVYlSy_72Fc"
      },
      "source": [
        "```python\n",
        "Z**Z\n",
        "2 << Z >> 2\n",
        "Z <- Z\n",
        "1j*Z\n",
        "Z/1/1\n",
        "Z<Z>Z\n",
        "```"
      ]
    },
    {
      "cell_type": "code",
      "execution_count": null,
      "metadata": {
        "id": "iCBV0pdU72Fc",
        "colab": {
          "base_uri": "https://localhost:8080/"
        },
        "outputId": "71e6b4bd-8980-4424-ce74-960e82a1d77c"
      },
      "outputs": [
        {
          "output_type": "execute_result",
          "data": {
            "text/plain": [
              "array([[0., 0., 0., 0., 0., 0., 0., 0., 0., 0.],\n",
              "       [0., 0., 0., 0., 0., 0., 0., 0., 0., 0.],\n",
              "       [0., 0., 0., 0., 0., 0., 0., 0., 0., 0.],\n",
              "       [0., 0., 0., 0., 0., 0., 0., 0., 0., 0.],\n",
              "       [0., 0., 0., 0., 0., 0., 0., 0., 0., 0.],\n",
              "       [0., 0., 0., 0., 0., 0., 0., 0., 0., 0.],\n",
              "       [0., 0., 0., 0., 0., 0., 0., 0., 0., 0.],\n",
              "       [0., 0., 0., 0., 0., 0., 0., 0., 0., 0.],\n",
              "       [0., 0., 0., 0., 0., 0., 0., 0., 0., 0.],\n",
              "       [0., 0., 0., 0., 0., 0., 0., 0., 0., 0.]])"
            ]
          },
          "metadata": {},
          "execution_count": 269
        }
      ],
      "source": [
        "z**z\n",
        "z <- z\n",
        "1j*z\n",
        "z/1/1\n"
      ]
    },
    {
      "cell_type": "markdown",
      "metadata": {
        "id": "oX52u3_j72Fd"
      },
      "source": [
        "#### 28. What are the result of the following expressions?"
      ]
    },
    {
      "cell_type": "markdown",
      "metadata": {
        "id": "QhqZQdvR72Fd"
      },
      "source": [
        "```python\n",
        "np.array(0) / np.array(0)\n",
        "np.array(0) // np.array(0)\n",
        "np.array([np.nan]).astype(int).astype(float)\n",
        "```"
      ]
    },
    {
      "cell_type": "code",
      "execution_count": null,
      "metadata": {
        "id": "aVo4f2nv72Fd",
        "colab": {
          "base_uri": "https://localhost:8080/"
        },
        "outputId": "ed387705-7b3e-4343-ba88-f9f40ad69bee"
      },
      "outputs": [
        {
          "output_type": "stream",
          "name": "stdout",
          "text": [
            "nan\n",
            "0\n",
            "[-9.22337204e+18]\n"
          ]
        }
      ],
      "source": [
        "print(np.array(0)/np.array(0))\n",
        "print(np.array(0)//np.array(0))\n",
        "print(np.array([np.nan]).astype(int).astype(float))"
      ]
    },
    {
      "cell_type": "markdown",
      "metadata": {
        "id": "VlR4NRLc72Fd"
      },
      "source": [
        "#### 29. How to round away from zero a float array ? (★☆☆) \n",
        "(**hint**: np.uniform, np.copysign, np.ceil, np.abs)"
      ]
    },
    {
      "cell_type": "code",
      "execution_count": null,
      "metadata": {
        "id": "iSGZ4zdk72Fd",
        "colab": {
          "base_uri": "https://localhost:8080/"
        },
        "outputId": "1bd25918-263a-4a8e-ddd7-224c528ce09f"
      },
      "outputs": [
        {
          "output_type": "stream",
          "name": "stdout",
          "text": [
            "[  1.   8.  -2.  -7.  -4.  -7.   1. -10. -10.   2.]\n"
          ]
        }
      ],
      "source": [
        "a=np.random.uniform(-10,+10,10)\n",
        "print(np.where(a>0,np.ceil(a),np.floor(a)))"
      ]
    },
    {
      "cell_type": "markdown",
      "metadata": {
        "id": "1otzOC_472Fd"
      },
      "source": [
        "#### 30. How to find common values between two arrays? (★☆☆) \n",
        "(**hint**: np.intersect1d)"
      ]
    },
    {
      "cell_type": "code",
      "execution_count": null,
      "metadata": {
        "id": "3Cgu48q772Fd",
        "colab": {
          "base_uri": "https://localhost:8080/"
        },
        "outputId": "50f147a7-ba28-471e-a785-0f701dd641fa"
      },
      "outputs": [
        {
          "output_type": "stream",
          "name": "stdout",
          "text": [
            "[0 2 6 8]\n"
          ]
        }
      ],
      "source": [
        "a1=np.random.randint(0,10,10)\n",
        "a2=np.random.randint(0,10,10)\n",
        "print(np.intersect1d(a1,a2))"
      ]
    },
    {
      "cell_type": "markdown",
      "metadata": {
        "id": "Tmody6Eb72Fd"
      },
      "source": [
        "#### 31. How to ignore all numpy warnings (not recommended)? (★☆☆) \n",
        "(**hint**: np.seterr, np.errstate)"
      ]
    },
    {
      "cell_type": "code",
      "execution_count": null,
      "metadata": {
        "id": "kx7QjcGb72Fd"
      },
      "outputs": [],
      "source": [
        "defaults=np.seterr(all='ignore')\n",
        "a=np.ones(1)/0\n"
      ]
    },
    {
      "cell_type": "markdown",
      "metadata": {
        "id": "gPZlrtQ172Fd"
      },
      "source": [
        "#### 32. Is the following expressions true? (★☆☆) \n",
        "(**hint**: imaginary number)"
      ]
    },
    {
      "cell_type": "markdown",
      "metadata": {
        "id": "kSc2F03c72Fe"
      },
      "source": [
        "```python\n",
        "np.sqrt(-1) == np.emath.sqrt(-1)\n",
        "```"
      ]
    },
    {
      "cell_type": "code",
      "execution_count": null,
      "metadata": {
        "id": "3ZpNc18x72Fe",
        "colab": {
          "base_uri": "https://localhost:8080/"
        },
        "outputId": "2a807409-c4f3-4690-c5a2-abf30fa64789"
      },
      "outputs": [
        {
          "output_type": "execute_result",
          "data": {
            "text/plain": [
              "False"
            ]
          },
          "metadata": {},
          "execution_count": 274
        }
      ],
      "source": [
        "np.sqrt(-1) == np.emath.sqrt(-1)"
      ]
    },
    {
      "cell_type": "markdown",
      "metadata": {
        "id": "fPTrhhQI72Fe"
      },
      "source": [
        "#### 33. How to get the dates of yesterday, today and tomorrow? (★☆☆) \n",
        "(**hint**: np.datetime64, np.timedelta64)"
      ]
    },
    {
      "cell_type": "code",
      "execution_count": null,
      "metadata": {
        "collapsed": true,
        "id": "yVlSrVlV72Fe",
        "colab": {
          "base_uri": "https://localhost:8080/"
        },
        "outputId": "1795a893-77bb-4ccd-a050-def8af5d8bdd"
      },
      "outputs": [
        {
          "output_type": "stream",
          "name": "stdout",
          "text": [
            "2022-10-27\n",
            "2022-10-28\n",
            "2022-10-29\n"
          ]
        }
      ],
      "source": [
        "yesterday = np.datetime64('today') - np.timedelta64(1)\n",
        "today = np.datetime64('today')\n",
        "tomorrow = np.datetime64('today') + np.timedelta64(1)\n",
        "print(yesterday)\n",
        "print(today)\n",
        "print(tomorrow)"
      ]
    },
    {
      "cell_type": "markdown",
      "metadata": {
        "id": "G4iPUX1u72Fe"
      },
      "source": [
        "#### 34. How to get all the dates corresponding to the month of July 2016? (★★☆) \n",
        "(**hint**: np.arange(dtype=datetime64\\['D'\\]))"
      ]
    },
    {
      "cell_type": "code",
      "execution_count": null,
      "metadata": {
        "id": "KLhN7iMw72Fe",
        "colab": {
          "base_uri": "https://localhost:8080/"
        },
        "outputId": "e0d5e96d-b817-4160-c92f-25db301eada8"
      },
      "outputs": [
        {
          "output_type": "stream",
          "name": "stdout",
          "text": [
            "['2016-07-01' '2016-07-02' '2016-07-03' '2016-07-04' '2016-07-05'\n",
            " '2016-07-06' '2016-07-07' '2016-07-08' '2016-07-09' '2016-07-10'\n",
            " '2016-07-11' '2016-07-12' '2016-07-13' '2016-07-14' '2016-07-15'\n",
            " '2016-07-16' '2016-07-17' '2016-07-18' '2016-07-19' '2016-07-20'\n",
            " '2016-07-21' '2016-07-22' '2016-07-23' '2016-07-24' '2016-07-25'\n",
            " '2016-07-26' '2016-07-27' '2016-07-28' '2016-07-29' '2016-07-30'\n",
            " '2016-07-31']\n"
          ]
        }
      ],
      "source": [
        "a = np.arange('2016-07','2016-08',dtype='datetime64[D]')\n",
        "print(a)"
      ]
    },
    {
      "cell_type": "code",
      "source": [],
      "metadata": {
        "id": "j3shTffS-GLK"
      },
      "execution_count": null,
      "outputs": []
    },
    {
      "cell_type": "markdown",
      "metadata": {
        "id": "4mwxzua772Fe"
      },
      "source": [
        "#### 35. How to compute ((A+B)\\*(-A/2)) in place (without copy)? (★★☆) \n",
        "(**hint**: np.add(out=), np.negative(out=), np.multiply(out=), np.divide(out=))"
      ]
    },
    {
      "cell_type": "code",
      "execution_count": null,
      "metadata": {
        "id": "SPeLl-xK72Fe",
        "colab": {
          "base_uri": "https://localhost:8080/"
        },
        "outputId": "49c6cccf-4162-4a38-a08e-3cdc3f1badff"
      },
      "outputs": [
        {
          "output_type": "execute_result",
          "data": {
            "text/plain": [
              "array([-1., -1., -1.])"
            ]
          },
          "metadata": {},
          "execution_count": 277
        }
      ],
      "source": [
        "A=np.ones(3)*1\n",
        "B = np.ones(3)*1\n",
        "np.add(A,B,out=B)\n",
        "np.divide(A,2,out=A)\n",
        "np.negative(A,out=A)\n",
        "np.multiply(A,B,out=A)"
      ]
    },
    {
      "cell_type": "markdown",
      "metadata": {
        "id": "JFhMCJI672Fe"
      },
      "source": [
        "#### 36. Extract the integer part of a random array using 5 different methods (★★☆) \n",
        "(**hint**: %, np.floor, np.ceil, astype, np.trunc)"
      ]
    },
    {
      "cell_type": "code",
      "execution_count": null,
      "metadata": {
        "id": "FmJgel-T72Ff",
        "colab": {
          "base_uri": "https://localhost:8080/"
        },
        "outputId": "381668a4-8a55-4f61-99b1-b5f48136b21e"
      },
      "outputs": [
        {
          "output_type": "stream",
          "name": "stdout",
          "text": [
            "[0. 9. 1. 3. 7. 6. 8. 9. 0. 2.]\n",
            "[0. 9. 1. 3. 7. 6. 8. 9. 0. 2.]\n",
            "[0. 9. 1. 3. 7. 6. 8. 9. 0. 2.]\n",
            "[0 9 1 3 7 6 8 9 0 2]\n",
            "[0. 9. 1. 3. 7. 6. 8. 9. 0. 2.]\n"
          ]
        }
      ],
      "source": [
        "a=np.random.uniform(0,10,10)\n",
        "print(a-a%1)\n",
        "print(a//1)\n",
        "print(np.floor(a))\n",
        "print(a.astype(int))\n",
        "print(np.trunc(a))"
      ]
    },
    {
      "cell_type": "markdown",
      "metadata": {
        "id": "8B6lZalT72Ff"
      },
      "source": [
        "#### 37. Create a 5x5 matrix with row values ranging from 0 to 4 (★★☆) \n",
        "(**hint**: np.arange)"
      ]
    },
    {
      "cell_type": "code",
      "execution_count": null,
      "metadata": {
        "id": "3bTgll7z72Ff",
        "colab": {
          "base_uri": "https://localhost:8080/"
        },
        "outputId": "39032a92-814d-4c43-fea0-31c7e6e92aed"
      },
      "outputs": [
        {
          "output_type": "stream",
          "name": "stdout",
          "text": [
            "[[0. 1. 2. 3. 4.]\n",
            " [0. 1. 2. 3. 4.]\n",
            " [0. 1. 2. 3. 4.]\n",
            " [0. 1. 2. 3. 4.]\n",
            " [0. 1. 2. 3. 4.]]\n"
          ]
        }
      ],
      "source": [
        "a=np.zeros((5,5))\n",
        "a=a+np.arange(5)\n",
        "print(a)"
      ]
    },
    {
      "cell_type": "markdown",
      "metadata": {
        "id": "rfxLbwsd72Ff"
      },
      "source": [
        "#### 38. Consider a generator function that generates 10 integers and use it to build an array (★☆☆) \n",
        "(**hint**: np.fromiter)"
      ]
    },
    {
      "cell_type": "code",
      "execution_count": null,
      "metadata": {
        "id": "qn6oB6qd72Ff",
        "colab": {
          "base_uri": "https://localhost:8080/"
        },
        "outputId": "5fdf821c-725d-4960-fc0d-6cc466fca427"
      },
      "outputs": [
        {
          "output_type": "stream",
          "name": "stdout",
          "text": [
            "[0. 1. 2. 3. 4. 5. 6. 7. 8. 9.]\n"
          ]
        }
      ],
      "source": [
        "def generate():\n",
        "  for x in range(10):\n",
        "    yield x\n",
        "a=np.fromiter(generate(),dtype=float,count=-1)\n",
        "print(a)"
      ]
    },
    {
      "cell_type": "markdown",
      "metadata": {
        "id": "vMFszDru72Fg"
      },
      "source": [
        "#### 39. Create a vector of size 10 with values ranging from 0 to 1, both excluded (★★☆) \n",
        "(**hint**: np.linspace)"
      ]
    },
    {
      "cell_type": "code",
      "execution_count": null,
      "metadata": {
        "id": "0ptdPJ4572Fg",
        "colab": {
          "base_uri": "https://localhost:8080/"
        },
        "outputId": "52995230-2c39-489d-c07f-8b0938790f89"
      },
      "outputs": [
        {
          "output_type": "stream",
          "name": "stdout",
          "text": [
            "[0.09090909 0.18181818 0.27272727 0.36363636 0.45454545 0.54545455\n",
            " 0.63636364 0.72727273 0.81818182 0.90909091]\n"
          ]
        }
      ],
      "source": [
        "a=np.linspace(0,1,11,endpoint=False)[1:]\n",
        "print(a)"
      ]
    },
    {
      "cell_type": "markdown",
      "metadata": {
        "id": "eeHJjph272Fg"
      },
      "source": [
        "#### 40. Create a random vector of size 10 and sort it (★★☆) \n",
        "(**hint**: sort)"
      ]
    },
    {
      "cell_type": "code",
      "execution_count": null,
      "metadata": {
        "id": "8hukulHt72Fg",
        "colab": {
          "base_uri": "https://localhost:8080/"
        },
        "outputId": "f8eb5b9f-83c5-473e-c904-5a14468df49f"
      },
      "outputs": [
        {
          "output_type": "stream",
          "name": "stdout",
          "text": [
            "[0.00885265 0.18890485 0.23368123 0.35249824 0.46039037 0.55608883\n",
            " 0.74029975 0.87678234 0.93453432 0.99178131]\n"
          ]
        }
      ],
      "source": [
        "a=np.random.random(10)\n",
        "a.sort()\n",
        "print(a)"
      ]
    },
    {
      "cell_type": "markdown",
      "metadata": {
        "id": "afIcaKig72Fg"
      },
      "source": [
        "#### 41. How to sum a small array faster than np.sum? (★★☆) \n",
        "(**hint**: np.add.reduce)"
      ]
    },
    {
      "cell_type": "code",
      "execution_count": null,
      "metadata": {
        "id": "1L2bTxPi72Fh",
        "colab": {
          "base_uri": "https://localhost:8080/"
        },
        "outputId": "84eb296b-810f-4c7e-8aca-556447071dcb"
      },
      "outputs": [
        {
          "output_type": "execute_result",
          "data": {
            "text/plain": [
              "45"
            ]
          },
          "metadata": {},
          "execution_count": 283
        }
      ],
      "source": [
        "a=np.arange(10)\n",
        "np.add.reduce(a)"
      ]
    },
    {
      "cell_type": "markdown",
      "metadata": {
        "id": "uk-Mml_572Fh"
      },
      "source": [
        "#### 42. Consider two random array A and B, check if they are equal (★★☆) \n",
        "(**hint**: np.allclose, np.array\\_equal)"
      ]
    },
    {
      "cell_type": "code",
      "execution_count": null,
      "metadata": {
        "id": "0uLbUawo72Fh",
        "colab": {
          "base_uri": "https://localhost:8080/"
        },
        "outputId": "e9d21131-dc07-4a57-92a4-ec4872cc5d19"
      },
      "outputs": [
        {
          "output_type": "stream",
          "name": "stdout",
          "text": [
            "True\n"
          ]
        }
      ],
      "source": [
        "a=np.random.randint(0,2,5)\n",
        "b=np.random.randint(0,2,5)\n",
        "equal=np.allclose(a,b)\n",
        "print(equal)"
      ]
    },
    {
      "cell_type": "markdown",
      "metadata": {
        "id": "woNfOq2I72Fh"
      },
      "source": [
        "#### 43. Make an array immutable (read-only) (★★☆) \n",
        "(**hint**: flags.writeable)"
      ]
    },
    {
      "cell_type": "code",
      "execution_count": null,
      "metadata": {
        "id": "oaq7WWXi72Fh"
      },
      "outputs": [],
      "source": [
        "a=np.zeros(10)\n",
        "a.flags.writeable = False\n",
        "a[0] = 1 \n"
      ]
    },
    {
      "cell_type": "markdown",
      "metadata": {
        "id": "6eiTGAVZ72Fh"
      },
      "source": [
        "#### 44. Consider a random 10x2 matrix representing cartesian coordinates, convert them to polar coordinates (★★☆) \n",
        "(**hint**: np.sqrt, np.arctan2)"
      ]
    },
    {
      "cell_type": "code",
      "execution_count": null,
      "metadata": {
        "id": "X-5_YUlS72Fh",
        "colab": {
          "base_uri": "https://localhost:8080/"
        },
        "outputId": "79f62d03-bc91-491d-ae29-a722ba1f8fcf"
      },
      "outputs": [
        {
          "output_type": "stream",
          "name": "stdout",
          "text": [
            "[1.05622486 1.04611208 0.61482621 0.71980218 0.91359423 1.22020785\n",
            " 0.60586443 0.34253584 0.55722451 0.96022544]\n",
            "[0.33464253 0.47974089 0.950741   1.3675094  1.04842202 0.72340751\n",
            " 0.69215698 0.22681404 0.04924839 1.21239866]\n"
          ]
        }
      ],
      "source": [
        "a=np.random.random((10,2))\n",
        "x,y=a[:,0],a[:,1]\n",
        "b=np.sqrt(x**2+y**2)\n",
        "c=np.arctan2(x,y)\n",
        "print(b)\n",
        "print(c)"
      ]
    },
    {
      "cell_type": "markdown",
      "metadata": {
        "id": "SIrhk7nn72Fh"
      },
      "source": [
        "#### 45. Create random vector of size 10 and replace the maximum value by 0 (★★☆) \n",
        "(**hint**: argmax)"
      ]
    },
    {
      "cell_type": "code",
      "execution_count": null,
      "metadata": {
        "id": "5jGNJ_Nb72Fh",
        "colab": {
          "base_uri": "https://localhost:8080/"
        },
        "outputId": "f40523cd-f2e0-4681-e4e1-441b990a2981"
      },
      "outputs": [
        {
          "output_type": "stream",
          "name": "stdout",
          "text": [
            "[0.35678222 0.08584794 0.         0.95610705 0.98337295 0.33923718\n",
            " 0.81545409 0.26759907 0.20253697 0.02402802]\n"
          ]
        }
      ],
      "source": [
        "a=np.random.random(10)\n",
        "a[a.argmax()]=0\n",
        "print(a)"
      ]
    },
    {
      "cell_type": "markdown",
      "metadata": {
        "id": "c4yoAxnU72Fh"
      },
      "source": [
        "#### 46. Create a structured array with `x` and `y` coordinates covering the \\[0,1\\]x\\[0,1\\] area (★★☆) \n",
        "(**hint**: np.meshgrid)"
      ]
    },
    {
      "cell_type": "code",
      "execution_count": null,
      "metadata": {
        "id": "RxLa4W3Y72Fi",
        "colab": {
          "base_uri": "https://localhost:8080/"
        },
        "outputId": "e56088e6-d586-4e53-e8a6-884502a9c08e"
      },
      "outputs": [
        {
          "output_type": "stream",
          "name": "stdout",
          "text": [
            "[[(0.  , 0.  ) (0.25, 0.  ) (0.5 , 0.  ) (0.75, 0.  ) (1.  , 0.  )]\n",
            " [(0.  , 0.25) (0.25, 0.25) (0.5 , 0.25) (0.75, 0.25) (1.  , 0.25)]\n",
            " [(0.  , 0.5 ) (0.25, 0.5 ) (0.5 , 0.5 ) (0.75, 0.5 ) (1.  , 0.5 )]\n",
            " [(0.  , 0.75) (0.25, 0.75) (0.5 , 0.75) (0.75, 0.75) (1.  , 0.75)]\n",
            " [(0.  , 1.  ) (0.25, 1.  ) (0.5 , 1.  ) (0.75, 1.  ) (1.  , 1.  )]]\n"
          ]
        }
      ],
      "source": [
        "a=np.zeros((5,5),[('x',float),('y',float)])\n",
        "a['x'],a['y']=np.meshgrid(np.linspace(0,1,5),np.linspace(0,1,5))\n",
        "print(a)"
      ]
    },
    {
      "cell_type": "markdown",
      "metadata": {
        "id": "3mwcYXmz72Fi"
      },
      "source": [
        "####  47. Given two arrays, X and Y, construct the Cauchy matrix C (Cij =1/(xi - yj)) \n",
        "(**hint**: np.subtract.outer)"
      ]
    },
    {
      "cell_type": "code",
      "execution_count": null,
      "metadata": {
        "id": "wKRDorfH72Fi",
        "colab": {
          "base_uri": "https://localhost:8080/"
        },
        "outputId": "c6984a86-9ccf-49cb-d133-0fa96a565b21"
      },
      "outputs": [
        {
          "output_type": "stream",
          "name": "stdout",
          "text": [
            "3638.163637117973\n"
          ]
        }
      ],
      "source": [
        "a=np.arange(8)\n",
        "b=a+0.5\n",
        "c=1.0/np.subtract.outer(a,b)\n",
        "print(np.linalg.det(c))"
      ]
    },
    {
      "cell_type": "markdown",
      "metadata": {
        "id": "a2JqgwLW72Fi"
      },
      "source": [
        "#### 48. Print the minimum and maximum representable value for each numpy scalar type (★★☆) \n",
        "(**hint**: np.iinfo, np.finfo, eps)"
      ]
    },
    {
      "cell_type": "code",
      "execution_count": null,
      "metadata": {
        "id": "JnQnF3Mm72Fi",
        "colab": {
          "base_uri": "https://localhost:8080/"
        },
        "outputId": "00e9b216-1139-463a-8af4-d2ca7ee41dfe"
      },
      "outputs": [
        {
          "output_type": "stream",
          "name": "stdout",
          "text": [
            "-128\n",
            "127\n",
            "-2147483648\n",
            "2147483647\n",
            "-9223372036854775808\n",
            "9223372036854775807\n",
            "-3.4028235e+38\n",
            "3.4028235e+38\n",
            "1.1920929e-07\n",
            "-1.7976931348623157e+308\n",
            "1.7976931348623157e+308\n",
            "2.220446049250313e-16\n"
          ]
        }
      ],
      "source": [
        "for dtype in[np.int8,np.int32,np.int64]:\n",
        "  print(np.iinfo(dtype).min)\n",
        "  print(np.iinfo(dtype).max)\n",
        "for dtype in[np.float32,np.float64]:\n",
        "  print(np.finfo(dtype).min)\n",
        "  print(np.finfo(dtype).max)\n",
        "  print(np.finfo(dtype).eps)\n"
      ]
    },
    {
      "cell_type": "markdown",
      "metadata": {
        "id": "eIjlt80U72Fi"
      },
      "source": [
        "#### 49. How to print all the values of an array? (★★☆) \n",
        "(**hint**: np.set\\_printoptions)"
      ]
    },
    {
      "cell_type": "code",
      "execution_count": null,
      "metadata": {
        "id": "pkQji6OB72Fi",
        "colab": {
          "base_uri": "https://localhost:8080/"
        },
        "outputId": "a59012d6-12ea-4d75-a7ea-58a443d5ae32"
      },
      "outputs": [
        {
          "output_type": "stream",
          "name": "stdout",
          "text": [
            "[[0. 0. 0. 0. 0. 0. 0. 0. 0. 0.]\n",
            " [0. 0. 0. 0. 0. 0. 0. 0. 0. 0.]\n",
            " [0. 0. 0. 0. 0. 0. 0. 0. 0. 0.]\n",
            " [0. 0. 0. 0. 0. 0. 0. 0. 0. 0.]\n",
            " [0. 0. 0. 0. 0. 0. 0. 0. 0. 0.]\n",
            " [0. 0. 0. 0. 0. 0. 0. 0. 0. 0.]\n",
            " [0. 0. 0. 0. 0. 0. 0. 0. 0. 0.]\n",
            " [0. 0. 0. 0. 0. 0. 0. 0. 0. 0.]\n",
            " [0. 0. 0. 0. 0. 0. 0. 0. 0. 0.]\n",
            " [0. 0. 0. 0. 0. 0. 0. 0. 0. 0.]]\n"
          ]
        }
      ],
      "source": [
        "np.set_printoptions(threshold=float('inf'))\n",
        "a=np.zeros((10,10))\n",
        "print(a)"
      ]
    },
    {
      "cell_type": "markdown",
      "metadata": {
        "id": "0ju91czt72Fi"
      },
      "source": [
        "#### 50. How to find the closest value (to a given scalar) in a vector? (★★☆) \n",
        "(**hint**: argmin)"
      ]
    },
    {
      "cell_type": "code",
      "execution_count": null,
      "metadata": {
        "id": "KFIRibdc72Fi",
        "colab": {
          "base_uri": "https://localhost:8080/"
        },
        "outputId": "4fea4e7b-2eef-4901-df42-60b8a04723b5"
      },
      "outputs": [
        {
          "output_type": "stream",
          "name": "stdout",
          "text": [
            "65\n"
          ]
        }
      ],
      "source": [
        "a=np.arange(100)\n",
        "b=np.random.uniform(0,100)\n",
        "index=(np.abs(a-b)).argmin()\n",
        "print(a[index])"
      ]
    },
    {
      "cell_type": "markdown",
      "metadata": {
        "id": "7ia81aLw72Fi"
      },
      "source": [
        "#### 51. Create a structured array representing a position (x,y) and a color (r,g,b) (★★☆) \n",
        "(**hint**: dtype)"
      ]
    },
    {
      "cell_type": "code",
      "execution_count": null,
      "metadata": {
        "id": "Bsvy-eKX72Fj",
        "colab": {
          "base_uri": "https://localhost:8080/"
        },
        "outputId": "3c0f1033-f167-4635-96bf-7aafd92f7420"
      },
      "outputs": [
        {
          "output_type": "stream",
          "name": "stdout",
          "text": [
            "[((0., 0.), (0., 0., 0.)) ((0., 0.), (0., 0., 0.))\n",
            " ((0., 0.), (0., 0., 0.)) ((0., 0.), (0., 0., 0.))\n",
            " ((0., 0.), (0., 0., 0.)) ((0., 0.), (0., 0., 0.))\n",
            " ((0., 0.), (0., 0., 0.)) ((0., 0.), (0., 0., 0.))\n",
            " ((0., 0.), (0., 0., 0.)) ((0., 0.), (0., 0., 0.))]\n"
          ]
        },
        {
          "output_type": "stream",
          "name": "stderr",
          "text": [
            "/usr/local/lib/python3.7/dist-packages/ipykernel_launcher.py:5: FutureWarning: Passing (type, 1) or '1type' as a synonym of type is deprecated; in a future version of numpy, it will be understood as (type, (1,)) / '(1,)type'.\n",
            "  \"\"\"\n"
          ]
        }
      ],
      "source": [
        "a=np.zeros(10,[('position', [('x',float,1),\n",
        "                            ('y',float,1)]),\n",
        "              ('color',[('r',float,1),\n",
        "                        ('g',float,1),\n",
        "                        ('b',float,1)])])\n",
        "print(a)"
      ]
    },
    {
      "cell_type": "markdown",
      "metadata": {
        "id": "_Rdzoh6t72Fj"
      },
      "source": [
        "#### 52. Consider a random vector with shape (100,2) representing coordinates, find point by point distances (★★☆) \n",
        "(**hint**: np.atleast\\_2d, T, np.sqrt)"
      ]
    },
    {
      "cell_type": "code",
      "execution_count": null,
      "metadata": {
        "id": "5EedLsOg72Fj",
        "colab": {
          "base_uri": "https://localhost:8080/"
        },
        "outputId": "40474c8c-5aa3-4332-d48c-8289c32c28cf"
      },
      "outputs": [
        {
          "output_type": "stream",
          "name": "stdout",
          "text": [
            "[[0.         0.67033435 0.64398113 0.25728395 0.59036353 0.41999317\n",
            "  0.1568337  0.17049324 0.61478762 0.57259491]\n",
            " [0.67033435 0.         0.26938912 0.64166041 0.35072307 0.38672848\n",
            "  0.67300868 0.49993405 0.37673165 0.41850195]\n",
            " [0.64398113 0.26938912 0.         0.51307162 0.57233404 0.23750428\n",
            "  0.58354389 0.49502986 0.11558306 0.17194075]\n",
            " [0.25728395 0.64166041 0.51307162 0.         0.69865454 0.27855724\n",
            "  0.10858522 0.26693568 0.44431478 0.38754892]\n",
            " [0.59036353 0.35072307 0.57233404 0.69865454 0.         0.55281381\n",
            "  0.67351016 0.45057874 0.64996959 0.66588965]\n",
            " [0.41999317 0.38672848 0.23750428 0.27855724 0.55281381 0.\n",
            "  0.34627719 0.29424096 0.19524067 0.16125208]\n",
            " [0.1568337  0.67300868 0.58354389 0.10858522 0.67351016 0.34627719\n",
            "  0.         0.22325277 0.52911738 0.47699305]\n",
            " [0.17049324 0.49993405 0.49502986 0.26693568 0.45057874 0.29424096\n",
            "  0.22325277 0.         0.48590251 0.45532195]\n",
            " [0.61478762 0.37673165 0.11558306 0.44431478 0.64996959 0.19524067\n",
            "  0.52911738 0.48590251 0.         0.063648  ]\n",
            " [0.57259491 0.41850195 0.17194075 0.38754892 0.66588965 0.16125208\n",
            "  0.47699305 0.45532195 0.063648   0.        ]]\n"
          ]
        }
      ],
      "source": [
        "import scipy\n",
        "import scipy.spatial\n",
        "\n",
        "a=np.random.random((10,2))\n",
        "b=scipy.spatial.distance.cdist(a,a)\n",
        "print(b)"
      ]
    },
    {
      "cell_type": "markdown",
      "metadata": {
        "id": "cZsEOY6t72Fj"
      },
      "source": [
        "#### 53. How to convert a float (32 bits) array into an integer (32 bits) in place? \n",
        "(**hint**: astype(copy=False))"
      ]
    },
    {
      "cell_type": "code",
      "execution_count": null,
      "metadata": {
        "id": "fDtNd_HC72Fj",
        "colab": {
          "base_uri": "https://localhost:8080/"
        },
        "outputId": "fe1c8a65-41a5-4777-a9a3-204299b7893d"
      },
      "outputs": [
        {
          "output_type": "stream",
          "name": "stdout",
          "text": [
            "[0.99763371 0.92802124 0.35726333 0.14532061 0.45582798 0.9146123\n",
            " 0.46643759 0.33376274 0.5565489  0.33682228]\n"
          ]
        }
      ],
      "source": [
        "a=(np.random.rand(10)*100).astype(np.float32)\n",
        "b=a.view(np.int32)\n",
        "b[:]=a\n",
        "print(y)"
      ]
    },
    {
      "cell_type": "markdown",
      "metadata": {
        "id": "htBkKTpp72Fj"
      },
      "source": [
        "#### 54. How to read the following file? (★★☆) \n",
        "(**hint**: np.genfromtxt)"
      ]
    },
    {
      "cell_type": "markdown",
      "metadata": {
        "id": "lBgGJLC772Fj"
      },
      "source": [
        "```\n",
        "1, 2, 3, 4, 5\n",
        "6,  ,  , 7, 8\n",
        " ,  , 9,10,11\n",
        "```"
      ]
    },
    {
      "cell_type": "code",
      "execution_count": null,
      "metadata": {
        "id": "--h_ker_72Fj",
        "colab": {
          "base_uri": "https://localhost:8080/"
        },
        "outputId": "a240f90b-0089-4b99-a8b0-46f5bb53f0d4"
      },
      "outputs": [
        {
          "output_type": "stream",
          "name": "stdout",
          "text": [
            "[[ 1  2  3  4  5]\n",
            " [ 6 -1 -1  7  8]\n",
            " [-1 -1  9 10 11]]\n"
          ]
        },
        {
          "output_type": "stream",
          "name": "stderr",
          "text": [
            "/usr/local/lib/python3.7/dist-packages/ipykernel_launcher.py:6: DeprecationWarning: `np.int` is a deprecated alias for the builtin `int`. To silence this warning, use `int` by itself. Doing this will not modify any behavior and is safe. When replacing `np.int`, you may wish to use e.g. `np.int64` or `np.int32` to specify the precision. If you wish to review your current use, check the release note link for additional information.\n",
            "Deprecated in NumPy 1.20; for more details and guidance: https://numpy.org/devdocs/release/1.20.0-notes.html#deprecations\n",
            "  \n"
          ]
        }
      ],
      "source": [
        "from io import StringIO\n",
        "s = StringIO('''1, 2, 3, 4, 5\n",
        "                6,  ,  , 7, 8\n",
        "                 ,  , 9,10,11\n",
        " ''')\n",
        "a=np.genfromtxt(s,delimiter=',',dtype=np.int)\n",
        "print(a)"
      ]
    },
    {
      "cell_type": "markdown",
      "metadata": {
        "id": "e0mTrd7172Fk"
      },
      "source": [
        "#### 55. What is the equivalent of enumerate for numpy arrays? (★★☆) \n",
        "(**hint**: np.ndenumerate, np.ndindex)"
      ]
    },
    {
      "cell_type": "code",
      "execution_count": null,
      "metadata": {
        "id": "vBKCogkP72Fk",
        "colab": {
          "base_uri": "https://localhost:8080/"
        },
        "outputId": "6f364fda-c171-4527-ef76-38bd523efe10"
      },
      "outputs": [
        {
          "output_type": "stream",
          "name": "stdout",
          "text": [
            "(0, 0) 0\n",
            "(0, 1) 1\n",
            "(0, 2) 2\n",
            "(1, 0) 3\n",
            "(1, 1) 4\n",
            "(1, 2) 5\n",
            "(2, 0) 6\n",
            "(2, 1) 7\n",
            "(2, 2) 8\n",
            "(0, 0) 0\n",
            "(0, 1) 1\n",
            "(0, 2) 2\n",
            "(1, 0) 3\n",
            "(1, 1) 4\n",
            "(1, 2) 5\n",
            "(2, 0) 6\n",
            "(2, 1) 7\n",
            "(2, 2) 8\n"
          ]
        }
      ],
      "source": [
        "a=np.arange(9).reshape(3,3)\n",
        "for index,value in np.ndenumerate(a):\n",
        "  print(index,value)\n",
        "for index in np.ndindex(a.shape):\n",
        "  print(index,a[index])"
      ]
    },
    {
      "cell_type": "markdown",
      "metadata": {
        "id": "k2QFUlo772Fk"
      },
      "source": [
        "#### 56. Generate a generic 2D Gaussian-like array (★★☆) \n",
        "(**hint**: np.meshgrid, np.exp)"
      ]
    },
    {
      "cell_type": "code",
      "execution_count": null,
      "metadata": {
        "id": "0zzkfSE172Fk",
        "colab": {
          "base_uri": "https://localhost:8080/"
        },
        "outputId": "624c2f13-da54-4577-ff11-999c7bbb37a1"
      },
      "outputs": [
        {
          "output_type": "stream",
          "name": "stdout",
          "text": [
            "[[0.36787944 0.44822088 0.51979489 0.57375342 0.60279818 0.60279818\n",
            "  0.57375342 0.51979489 0.44822088 0.36787944]\n",
            " [0.44822088 0.54610814 0.63331324 0.69905581 0.73444367 0.73444367\n",
            "  0.69905581 0.63331324 0.54610814 0.44822088]\n",
            " [0.51979489 0.63331324 0.73444367 0.81068432 0.85172308 0.85172308\n",
            "  0.81068432 0.73444367 0.63331324 0.51979489]\n",
            " [0.57375342 0.69905581 0.81068432 0.89483932 0.9401382  0.9401382\n",
            "  0.89483932 0.81068432 0.69905581 0.57375342]\n",
            " [0.60279818 0.73444367 0.85172308 0.9401382  0.98773022 0.98773022\n",
            "  0.9401382  0.85172308 0.73444367 0.60279818]\n",
            " [0.60279818 0.73444367 0.85172308 0.9401382  0.98773022 0.98773022\n",
            "  0.9401382  0.85172308 0.73444367 0.60279818]\n",
            " [0.57375342 0.69905581 0.81068432 0.89483932 0.9401382  0.9401382\n",
            "  0.89483932 0.81068432 0.69905581 0.57375342]\n",
            " [0.51979489 0.63331324 0.73444367 0.81068432 0.85172308 0.85172308\n",
            "  0.81068432 0.73444367 0.63331324 0.51979489]\n",
            " [0.44822088 0.54610814 0.63331324 0.69905581 0.73444367 0.73444367\n",
            "  0.69905581 0.63331324 0.54610814 0.44822088]\n",
            " [0.36787944 0.44822088 0.51979489 0.57375342 0.60279818 0.60279818\n",
            "  0.57375342 0.51979489 0.44822088 0.36787944]]\n"
          ]
        }
      ],
      "source": [
        "x,y=np.meshgrid(np.linspace(-1,1,10),np.linspace(-1,1,10))\n",
        "a=np.sqrt(x*x+y*y)\n",
        "sigma,mu=1.0,0.0\n",
        "b=np.exp(-((a-mu)**2/(2.0*sigma**2)))\n",
        "print(b)"
      ]
    },
    {
      "cell_type": "markdown",
      "metadata": {
        "id": "oqYxzktL72Fk"
      },
      "source": [
        "#### 57. How to randomly place p elements in a 2D array? (★★☆) \n",
        "(**hint**: np.put, np.random.choice)"
      ]
    },
    {
      "cell_type": "code",
      "execution_count": null,
      "metadata": {
        "id": "EOTHcXmx72Fk",
        "colab": {
          "base_uri": "https://localhost:8080/"
        },
        "outputId": "9c380bdb-26fc-4c74-eec7-861fe13cdeed"
      },
      "outputs": [
        {
          "output_type": "stream",
          "name": "stdout",
          "text": [
            "[[0. 0. 1. 0. 0. 0. 0. 0. 0. 0.]\n",
            " [0. 0. 0. 0. 0. 1. 0. 0. 0. 0.]\n",
            " [0. 0. 0. 0. 0. 0. 0. 0. 0. 0.]\n",
            " [0. 0. 0. 0. 0. 0. 0. 0. 0. 0.]\n",
            " [0. 0. 0. 0. 0. 0. 1. 0. 0. 0.]\n",
            " [0. 0. 0. 0. 0. 0. 0. 0. 0. 0.]\n",
            " [0. 0. 0. 0. 0. 0. 0. 0. 0. 0.]\n",
            " [0. 0. 0. 0. 0. 0. 0. 0. 0. 0.]\n",
            " [0. 0. 0. 0. 0. 0. 0. 0. 0. 0.]\n",
            " [0. 0. 0. 0. 0. 0. 0. 0. 0. 0.]]\n"
          ]
        }
      ],
      "source": [
        "n=10\n",
        "p=3\n",
        "a=np.zeros((n,n))\n",
        "np.put(a,np.random.choice(range(n*n),p,replace=False),1)\n",
        "print(a)"
      ]
    },
    {
      "cell_type": "markdown",
      "metadata": {
        "id": "s_O1pgAt72Fk"
      },
      "source": [
        "#### 58. Subtract the mean of each row of a matrix (★★☆) \n",
        "(**hint**: mean(axis=,keepdims=))"
      ]
    },
    {
      "cell_type": "code",
      "execution_count": null,
      "metadata": {
        "id": "5CZ9IyGh72Fk",
        "colab": {
          "base_uri": "https://localhost:8080/"
        },
        "outputId": "12ada4b5-fcaa-4d07-cc63-693623f142a2"
      },
      "outputs": [
        {
          "output_type": "stream",
          "name": "stdout",
          "text": [
            "[[-0.20507452  0.1897321  -0.12230399 -0.26998692  0.57939155  0.25018842\n",
            "  -0.18743286 -0.12840521 -0.13527569  0.02916712]\n",
            " [ 0.43923188  0.42183322  0.21845431 -0.1248251   0.010215   -0.15238246\n",
            "  -0.1705897  -0.42282798  0.06350818 -0.28261734]\n",
            " [ 0.19273709 -0.11129268 -0.0483472   0.09895823 -0.16436431 -0.14418992\n",
            "   0.19883551  0.32596505 -0.02211379 -0.32618798]\n",
            " [ 0.1820764  -0.14814087  0.43213651  0.09453322 -0.40707909 -0.04561974\n",
            "   0.0950456  -0.01326251 -0.49863318  0.30894366]\n",
            " [-0.24041772 -0.14723316  0.32689798  0.26725544 -0.26931789 -0.24187264\n",
            "  -0.10115599  0.29202973  0.19007765 -0.0762634 ]]\n"
          ]
        }
      ],
      "source": [
        "a=np.random.rand(5,10)\n",
        "b=a-a.mean(axis=1,keepdims=True)\n",
        "print(b)"
      ]
    },
    {
      "cell_type": "markdown",
      "metadata": {
        "id": "c76pHmIB72Fk"
      },
      "source": [
        "#### 59. How to sort an array by the nth column? (★★☆) \n",
        "(**hint**: argsort)"
      ]
    },
    {
      "cell_type": "code",
      "execution_count": null,
      "metadata": {
        "id": "CZ96W87w72Fl",
        "colab": {
          "base_uri": "https://localhost:8080/"
        },
        "outputId": "d134a8d8-9309-46e0-aea8-7b118e3810e8"
      },
      "outputs": [
        {
          "output_type": "stream",
          "name": "stdout",
          "text": [
            "[[6 7 1]\n",
            " [2 3 1]\n",
            " [6 3 0]]\n",
            "[[2 3 1]\n",
            " [6 3 0]\n",
            " [6 7 1]]\n"
          ]
        }
      ],
      "source": [
        "a=np.random.randint(0,10,(3,3))\n",
        "print(a)\n",
        "print(a[a[:,1].argsort()])"
      ]
    },
    {
      "cell_type": "markdown",
      "metadata": {
        "id": "5QbiFMgk72Fl"
      },
      "source": [
        "#### 60. How to tell if a given 2D array has null columns? (★★☆) \n",
        "(**hint**: any, ~)"
      ]
    },
    {
      "cell_type": "code",
      "execution_count": null,
      "metadata": {
        "id": "_9AkJYH972Fl",
        "colab": {
          "base_uri": "https://localhost:8080/"
        },
        "outputId": "0fbaaa39-9247-44c3-bf07-30d68a08aa40"
      },
      "outputs": [
        {
          "output_type": "stream",
          "name": "stdout",
          "text": [
            "True\n"
          ]
        }
      ],
      "source": [
        "a=np.random.randint(0,3,(3,10))\n",
        "print((~a.any(axis=0)).any())"
      ]
    },
    {
      "cell_type": "markdown",
      "metadata": {
        "id": "QP_CPrnM72Fl"
      },
      "source": [
        "#### 61. Find the nearest value from a given value in an array (★★☆) \n",
        "(**hint**: np.abs, argmin, flat)"
      ]
    },
    {
      "cell_type": "code",
      "execution_count": null,
      "metadata": {
        "id": "3DAjhJs072Fl",
        "colab": {
          "base_uri": "https://localhost:8080/"
        },
        "outputId": "a5b26a84-8260-4bb8-e33b-8569dafe50bf"
      },
      "outputs": [
        {
          "output_type": "stream",
          "name": "stdout",
          "text": [
            "0.43359123325239646\n"
          ]
        }
      ],
      "source": [
        "A=np.random.uniform(0,1,10)\n",
        "a=0.5\n",
        "m=A.flat[np.abs(A-a).argmin()]\n",
        "print(m)"
      ]
    },
    {
      "cell_type": "markdown",
      "metadata": {
        "id": "UBxzLr3f72Fl"
      },
      "source": [
        "#### 62. Considering two arrays with shape (1,3) and (3,1), how to compute their sum using an iterator? (★★☆) \n",
        "(**hint**: np.nditer)"
      ]
    },
    {
      "cell_type": "code",
      "execution_count": null,
      "metadata": {
        "id": "HT3dV4M_72Fl",
        "colab": {
          "base_uri": "https://localhost:8080/"
        },
        "outputId": "ba2a177d-dfc9-4a66-d06d-a22b53642229"
      },
      "outputs": [
        {
          "output_type": "stream",
          "name": "stdout",
          "text": [
            "[[0 1 2]\n",
            " [1 2 3]\n",
            " [2 3 4]]\n"
          ]
        }
      ],
      "source": [
        "a=np.arange(3).reshape(3,1)\n",
        "b=np.arange(3).reshape(1,3)\n",
        "it=np.nditer([a,b,None])\n",
        "for x,y,z in it:z[...]=x+y\n",
        "print(it.operands[2])"
      ]
    },
    {
      "cell_type": "markdown",
      "metadata": {
        "id": "E-MRpDPf72Fl"
      },
      "source": [
        "#### 63. Create an array class that has a name attribute (★★☆) \n",
        "(**hint**: class method)"
      ]
    },
    {
      "cell_type": "code",
      "execution_count": null,
      "metadata": {
        "id": "w6SNxL_372Fl"
      },
      "outputs": [],
      "source": [
        "class NamedArray(np.ndarray):\n",
        "  def _new_(cls,array,name='no name'):\n",
        "    obj = np.asarray(array).view(cls)\n",
        "    obj.name=name\n",
        "    return obj\n",
        "  def _array_finalize_(self,obj):\n",
        "    if obj is None:return\n",
        "    self.name = getattr(obj,'name','no name')\n",
        "\n",
        "Z = NamedArray(np.arange(10), \"range_10\")\n",
        "print(Z.name)"
      ]
    },
    {
      "cell_type": "markdown",
      "metadata": {
        "id": "8MvjPo5M72Fl"
      },
      "source": [
        "#### 64. Consider a given vector, how to add 1 to each element indexed by a second vector (be careful with repeated indices)? (★★★) \n",
        "(**hint**: np.bincount | np.add.at)"
      ]
    },
    {
      "cell_type": "code",
      "execution_count": null,
      "metadata": {
        "id": "Rb28oiDz72Fl",
        "colab": {
          "base_uri": "https://localhost:8080/"
        },
        "outputId": "b25e13e1-5f59-471e-ff2f-16418e026ad9"
      },
      "outputs": [
        {
          "output_type": "stream",
          "name": "stdout",
          "text": [
            "[2. 3. 5. 3. 4. 2. 3. 2. 3. 3.]\n"
          ]
        }
      ],
      "source": [
        "a=np.ones(10)\n",
        "b=np.random.randint(0,len(a),20)\n",
        "a+=np.bincount(b,minlength=len(a))\n",
        "print(a)"
      ]
    },
    {
      "cell_type": "markdown",
      "metadata": {
        "id": "YyrtnbTL72Fm"
      },
      "source": [
        "#### 65. How to accumulate elements of a vector (X) to an array (F) based on an index list (I)? (★★★) \n",
        "(**hint**: np.bincount)"
      ]
    },
    {
      "cell_type": "code",
      "execution_count": null,
      "metadata": {
        "id": "v8C_5lwO72Fm",
        "colab": {
          "base_uri": "https://localhost:8080/"
        },
        "outputId": "1b422482-6b25-4713-eed5-7168967c7f41"
      },
      "outputs": [
        {
          "output_type": "stream",
          "name": "stdout",
          "text": [
            "[0. 7. 2. 0. 3. 4. 0. 5.]\n"
          ]
        }
      ],
      "source": [
        "a=[1,2,3,4,5,6]\n",
        "b=[1,2,4,5,7,1]\n",
        "F=np.bincount(b,a)\n",
        "print(F)"
      ]
    },
    {
      "cell_type": "markdown",
      "metadata": {
        "id": "MKs9-8jr72Fm"
      },
      "source": [
        "#### 66. Considering a (w,h,3) image of (dtype=ubyte), compute the number of unique colors (★★★) \n",
        "(**hint**: np.unique)"
      ]
    },
    {
      "cell_type": "code",
      "execution_count": null,
      "metadata": {
        "id": "JJFRqg8J72Fm",
        "colab": {
          "base_uri": "https://localhost:8080/"
        },
        "outputId": "91e86288-aa78-46e6-caf6-ed0644d0b428"
      },
      "outputs": [
        {
          "output_type": "stream",
          "name": "stdout",
          "text": [
            "64\n"
          ]
        }
      ],
      "source": [
        "w,h=256,256\n",
        "I = np.random.randint(0,4,(h,w,3), dtype=np.uint8)\n",
        "I24 = np.dot(I.astype(np.uint32),[1,256,65536])\n",
        "n=len(np.unique(I24))\n",
        "print(n)"
      ]
    },
    {
      "cell_type": "markdown",
      "metadata": {
        "id": "youEiuj172Fm"
      },
      "source": [
        "#### 67. Considering a four dimensions array, how to get sum over the last two axis at once? (★★★) \n",
        "(**hint**: sum(axis=(-2,-1)))"
      ]
    },
    {
      "cell_type": "code",
      "execution_count": null,
      "metadata": {
        "id": "a93pJ55D72Fm",
        "colab": {
          "base_uri": "https://localhost:8080/"
        },
        "outputId": "31f40176-a215-4777-b2d4-d511ce500306"
      },
      "outputs": [
        {
          "output_type": "stream",
          "name": "stdout",
          "text": [
            "[[44 54 41 44]\n",
            " [65 80 57 53]\n",
            " [47 32 60 48]]\n"
          ]
        }
      ],
      "source": [
        "a=np.random.randint(0,10,(3,4,3,4))\n",
        "sum=a.sum(axis=(-2,-1))\n",
        "print(sum)"
      ]
    },
    {
      "cell_type": "markdown",
      "metadata": {
        "id": "WUycF98272Fm"
      },
      "source": [
        "#### 68. Considering a one-dimensional vector D, how to compute means of subsets of D using a vector S of same size describing subset  indices? (★★★) \n",
        "(**hint**: np.bincount)"
      ]
    },
    {
      "cell_type": "code",
      "execution_count": null,
      "metadata": {
        "id": "Fwwk5DqS72Fn",
        "colab": {
          "base_uri": "https://localhost:8080/"
        },
        "outputId": "6f521362-dcd0-4945-aef6-0b64d7780044"
      },
      "outputs": [
        {
          "output_type": "stream",
          "name": "stdout",
          "text": [
            "[0.51040815]\n"
          ]
        }
      ],
      "source": [
        "D=np.random.uniform(0,1,100)\n",
        "S=np.random.randint(0,1,100)\n",
        "D_sums=np.bincount(S,weights=D)\n",
        "D_counts=np.bincount(S)\n",
        "D_means=D_sums/D_counts\n",
        "print(D_means)"
      ]
    },
    {
      "cell_type": "markdown",
      "metadata": {
        "id": "Huz8xjwu72Fn"
      },
      "source": [
        "#### 69. How to get the diagonal of a dot product? (★★★) \n",
        "(**hint**: np.diag)"
      ]
    },
    {
      "cell_type": "code",
      "execution_count": null,
      "metadata": {
        "id": "nvyiuSAS72Fn",
        "colab": {
          "base_uri": "https://localhost:8080/"
        },
        "outputId": "90af08ad-10c0-41e6-af12-e5c72f75870a"
      },
      "outputs": [
        {
          "output_type": "execute_result",
          "data": {
            "text/plain": [
              "array([1.7928289 , 1.08113953, 1.0936985 , 0.71640003, 1.64884681])"
            ]
          },
          "metadata": {},
          "execution_count": 313
        }
      ],
      "source": [
        "a=np.random.uniform(0,1,(5,5))\n",
        "b=np.random.uniform(0,1,(5,5))\n",
        "np.diag(np.dot(a,b))\n",
        "np.sum(a*b.T,axis=1)\n"
      ]
    },
    {
      "cell_type": "markdown",
      "metadata": {
        "id": "3Yd7OL2F72Fn"
      },
      "source": [
        "#### 70. Consider the vector \\[1, 2, 3, 4, 5\\], how to build a new vector with 3 consecutive zeros interleaved between each value? (★★★) \n",
        "(**hint**: array\\[::4\\])"
      ]
    },
    {
      "cell_type": "code",
      "execution_count": null,
      "metadata": {
        "id": "bPog1lff72Fn",
        "colab": {
          "base_uri": "https://localhost:8080/"
        },
        "outputId": "91eae67a-f76f-4168-823f-6f5a715f63b0"
      },
      "outputs": [
        {
          "output_type": "stream",
          "name": "stdout",
          "text": [
            "[0. 0. 0. 0. 0. 0. 0. 0. 0. 0. 0. 0. 0. 0. 0. 0. 0.]\n"
          ]
        }
      ],
      "source": [
        "a=np.array([1,2,3,4,5])\n",
        "nz=3\n",
        "a0=np.zeros(len(a)+(len(a)-1)*(nz))\n",
        "a0[::nz+1]=print(a0)"
      ]
    },
    {
      "cell_type": "markdown",
      "metadata": {
        "id": "AOjmFRuo72Fn"
      },
      "source": [
        "#### 71. Consider an array of dimension (5,5,3), how to mulitply it by an array with dimensions (5,5)? (★★★) \n",
        "(**hint**: array\\[:, :, None\\])"
      ]
    },
    {
      "cell_type": "code",
      "execution_count": null,
      "metadata": {
        "collapsed": true,
        "id": "v-EA6gXd72Fn",
        "colab": {
          "base_uri": "https://localhost:8080/"
        },
        "outputId": "d85314be-7921-4d09-818a-b126e69e80d9"
      },
      "outputs": [
        {
          "output_type": "stream",
          "name": "stdout",
          "text": [
            "[[[2. 2. 2.]\n",
            "  [2. 2. 2.]\n",
            "  [2. 2. 2.]\n",
            "  [2. 2. 2.]\n",
            "  [2. 2. 2.]]\n",
            "\n",
            " [[2. 2. 2.]\n",
            "  [2. 2. 2.]\n",
            "  [2. 2. 2.]\n",
            "  [2. 2. 2.]\n",
            "  [2. 2. 2.]]\n",
            "\n",
            " [[2. 2. 2.]\n",
            "  [2. 2. 2.]\n",
            "  [2. 2. 2.]\n",
            "  [2. 2. 2.]\n",
            "  [2. 2. 2.]]\n",
            "\n",
            " [[2. 2. 2.]\n",
            "  [2. 2. 2.]\n",
            "  [2. 2. 2.]\n",
            "  [2. 2. 2.]\n",
            "  [2. 2. 2.]]\n",
            "\n",
            " [[2. 2. 2.]\n",
            "  [2. 2. 2.]\n",
            "  [2. 2. 2.]\n",
            "  [2. 2. 2.]\n",
            "  [2. 2. 2.]]]\n"
          ]
        }
      ],
      "source": [
        "a=np.ones((5,5,3))\n",
        "b=2*np.ones((5,5))\n",
        "print(a*b[:,:,None])"
      ]
    },
    {
      "cell_type": "markdown",
      "metadata": {
        "id": "aG5XUFnH72Fo"
      },
      "source": [
        "#### 72. How to swap two rows of an array? (★★★) \n",
        "(**hint**: array\\[\\[\\]\\] = array\\[\\[\\]\\])"
      ]
    },
    {
      "cell_type": "code",
      "execution_count": null,
      "metadata": {
        "id": "DjbJ5lKM72Fo",
        "colab": {
          "base_uri": "https://localhost:8080/"
        },
        "outputId": "d71247b8-33a7-4527-fb85-ac2bc53221c2"
      },
      "outputs": [
        {
          "output_type": "stream",
          "name": "stdout",
          "text": [
            "[[ 5  6  7  8  9]\n",
            " [ 0  1  2  3  4]\n",
            " [10 11 12 13 14]\n",
            " [15 16 17 18 19]\n",
            " [20 21 22 23 24]]\n"
          ]
        }
      ],
      "source": [
        "a=np.arange(25).reshape(5,5)\n",
        "a[[0,1]]=a[[1,0]]\n",
        "print(a)"
      ]
    },
    {
      "cell_type": "markdown",
      "metadata": {
        "id": "XuTPw15g72Fo"
      },
      "source": [
        "#### 73. Consider a set of 10 triplets describing 10 triangles (with shared vertices), find the set of unique line segments composing all the  triangles (★★★) \n",
        "(**hint**: repeat, np.roll, np.sort, view, np.unique)"
      ]
    },
    {
      "cell_type": "code",
      "execution_count": null,
      "metadata": {
        "id": "yLBlyQWs72Fo",
        "colab": {
          "base_uri": "https://localhost:8080/"
        },
        "outputId": "75fa379f-4575-40cc-a273-75d686da567a"
      },
      "outputs": [
        {
          "output_type": "stream",
          "name": "stdout",
          "text": [
            "[( 5, 36) ( 5, 98) ( 7, 19) ( 7, 55) (12, 13) (12, 30) (13, 25) (13, 30)\n",
            " (13, 53) (17, 34) (17, 57) (19, 55) (25, 53) (30, 41) (30, 99) (34, 57)\n",
            " (36, 98) (40, 70) (40, 76) (41, 99) (54, 60) (54, 71) (60, 71) (61, 82)\n",
            " (61, 95) (64, 71) (64, 72) (70, 76) (71, 72) (82, 95)]\n"
          ]
        }
      ],
      "source": [
        "face=np.random.randint(0,100,(10,3))\n",
        "F=np.roll(face.repeat(2,axis=1),-1,axis=1)\n",
        "F=F.reshape(len(F)*3,2)\n",
        "F=np.sort(F,axis=1)\n",
        "G=F.view(dtype=[('p0',F.dtype),('p1',F.dtype)])\n",
        "G=np.unique(G)\n",
        "print(G)"
      ]
    },
    {
      "cell_type": "markdown",
      "metadata": {
        "id": "ZitNhadl72Fo"
      },
      "source": [
        "#### 74. Given an array C that is a bincount, how to produce an array A such that np.bincount(A) == C? (★★★) \n",
        "(**hint**: np.repeat)"
      ]
    },
    {
      "cell_type": "code",
      "execution_count": null,
      "metadata": {
        "id": "uVp6pd3r72Fp",
        "colab": {
          "base_uri": "https://localhost:8080/"
        },
        "outputId": "13bd8772-380a-4e55-985f-974a856eb685"
      },
      "outputs": [
        {
          "output_type": "stream",
          "name": "stdout",
          "text": [
            "[1 1 2 3 4 4 6]\n"
          ]
        }
      ],
      "source": [
        "c=np.bincount([1,1,2,3,4,4,6])\n",
        "a=np.repeat(np.arange(len(c)),c)\n",
        "print(a)"
      ]
    },
    {
      "cell_type": "markdown",
      "metadata": {
        "id": "FOPIIbwQ72Fp"
      },
      "source": [
        "#### 75. How to compute averages using a sliding window over an array? (★★★) \n",
        "(**hint**: np.cumsum)"
      ]
    },
    {
      "cell_type": "code",
      "execution_count": null,
      "metadata": {
        "id": "hBqg0EyJ72Fq",
        "colab": {
          "base_uri": "https://localhost:8080/"
        },
        "outputId": "d31f78aa-3f2f-4958-9af7-9dc278a47e19"
      },
      "outputs": [
        {
          "output_type": "stream",
          "name": "stdout",
          "text": [
            "[ 1.  2.  3.  4.  5.  6.  7.  8.  9. 10. 11. 12. 13. 14. 15. 16. 17. 18.]\n"
          ]
        }
      ],
      "source": [
        "def moving_average(a,n=3):\n",
        "  ret=np.cumsum(a,dtype=float)\n",
        "  ret[n:]=ret[n:]-ret[:-n]\n",
        "  return ret[n-1:]/n\n",
        "a=np.arange(20)\n",
        "print(moving_average(a,n=3))"
      ]
    },
    {
      "cell_type": "markdown",
      "metadata": {
        "id": "rZIyec3Q72Fq"
      },
      "source": [
        "#### 76. Consider a one-dimensional array Z, build a two-dimensional array whose first row is (Z\\[0\\],Z\\[1\\],Z\\[2\\]) and each subsequent row is  shifted by 1 (last row should be (Z\\[-3\\],Z\\[-2\\],Z\\[-1\\]) (★★★) \n",
        "(**hint**: from numpy.lib import stride_tricks)"
      ]
    },
    {
      "cell_type": "code",
      "execution_count": null,
      "metadata": {
        "id": "1urAX-cL72Fq",
        "colab": {
          "base_uri": "https://localhost:8080/"
        },
        "outputId": "033f783e-46ee-41cb-9ef4-c357ca3882c8"
      },
      "outputs": [
        {
          "output_type": "stream",
          "name": "stdout",
          "text": [
            "[[0 1 2]\n",
            " [1 2 3]\n",
            " [2 3 4]\n",
            " [3 4 5]\n",
            " [4 5 6]\n",
            " [5 6 7]\n",
            " [6 7 8]\n",
            " [7 8 9]]\n"
          ]
        }
      ],
      "source": [
        "from numpy.lib import stride_tricks\n",
        "\n",
        "def rolling(a,window):\n",
        "  shape=(a.size - window +1, window)\n",
        "  strides = (a.strides[0],a.strides[0])\n",
        "  return stride_tricks.as_strided(a, shape=shape, strides=strides)\n",
        "\n",
        "a=rolling (np.arange(10),3)\n",
        "print(a)"
      ]
    },
    {
      "cell_type": "markdown",
      "metadata": {
        "id": "SUOPaeRk72Fq"
      },
      "source": [
        "#### 77. How to negate a boolean, or to change the sign of a float inplace? (★★★) \n",
        "(**hint**: np.logical_not, np.negative)"
      ]
    },
    {
      "cell_type": "code",
      "execution_count": null,
      "metadata": {
        "id": "PV--cNhO72Fr",
        "colab": {
          "base_uri": "https://localhost:8080/"
        },
        "outputId": "958b68d7-f87a-49b8-d865-e7eb5d18b7d1"
      },
      "outputs": [
        {
          "output_type": "execute_result",
          "data": {
            "text/plain": [
              "array([-0.8890054 , -0.91120167, -0.38664295,  0.38651827,  0.01456271,\n",
              "        0.60151279, -0.42674565, -0.46857062,  0.2082398 ,  0.2284607 ,\n",
              "        0.58472532,  0.75907679,  0.88685987,  0.19221758,  0.95964536,\n",
              "       -0.16554558, -0.00379512, -0.9184992 ,  0.59302899,  0.338944  ,\n",
              "        0.05867586,  0.50017054,  0.69083684, -0.36789156,  0.52862597,\n",
              "       -0.21325066, -0.28902932, -0.12687703, -0.12731553,  0.26187317,\n",
              "        0.35418399,  0.61132607, -0.11357622,  0.34938698, -0.60196235,\n",
              "        0.49429274, -0.63452307, -0.15166496, -0.48196105,  0.50691612,\n",
              "        0.14214148,  0.85212136, -0.94202438,  0.48568126, -0.59101945,\n",
              "       -0.09123693,  0.92047885, -0.11811153, -0.35153141, -0.82857076,\n",
              "        0.28018893,  0.26912647,  0.42467938, -0.04119757,  0.8101066 ,\n",
              "        0.42608189,  0.85580751, -0.79565653,  0.83206812, -0.84656397,\n",
              "       -0.47720509, -0.70575086, -0.11781471,  0.46113033, -0.91295252,\n",
              "       -0.20986098,  0.53631837,  0.61132129,  0.30765469, -0.74373644,\n",
              "       -0.47224421,  0.89138189, -0.49495001,  0.08077618,  0.91915533,\n",
              "        0.80393822, -0.03227341, -0.89395799,  0.04292764, -0.16825003,\n",
              "        0.12185452,  0.32311136,  0.08838054,  0.38428848, -0.05472194,\n",
              "       -0.01134971,  0.80802611, -0.96407513,  0.20889207,  0.8767612 ,\n",
              "       -0.8307309 ,  0.75627508,  0.75830837,  0.7104031 , -0.81408505,\n",
              "        0.14305534,  0.59373854,  0.91846664,  0.08509717, -0.5393237 ])"
            ]
          },
          "metadata": {},
          "execution_count": 321
        }
      ],
      "source": [
        "a=np.random.randint(0,2,100)\n",
        "np.logical_not(a,out=a)\n",
        "\n",
        "a=np.random.uniform(-1.0,1.0,100)\n",
        "np.negative(a,out=a)"
      ]
    },
    {
      "cell_type": "markdown",
      "metadata": {
        "id": "kRst0KNH72Fr"
      },
      "source": [
        "#### 78. Consider 2 sets of points P0,P1 describing lines (2d) and a point p, how to compute distance from p to each line i  (P0\\[i\\],P1\\[i\\])? (★★★)"
      ]
    },
    {
      "cell_type": "code",
      "execution_count": null,
      "metadata": {
        "id": "we6hMYNf72Fr",
        "colab": {
          "base_uri": "https://localhost:8080/"
        },
        "outputId": "bcdccc9f-0fd6-48e0-ec4f-43ea8d1b1575"
      },
      "outputs": [
        {
          "output_type": "stream",
          "name": "stdout",
          "text": [
            "[ 6.51414784  1.25958766  0.7620473   9.44354992  4.29270635  2.33943578\n",
            "  6.67955058  1.73838788 15.58188358 12.55629786]\n"
          ]
        }
      ],
      "source": [
        "def distance(p0,p1,p):\n",
        "  T=p1 -p0\n",
        "  L=(T**2).sum(axis=1)\n",
        "  U=-((p0[:,0]-p[...,0])*T[:,0]+(p0[:,1]-p[...,1])*T[:,1])/L\n",
        "  U=U.reshape(len(U),1)\n",
        "  D= p0 + U*T -p\n",
        "  return np.sqrt((D**2).sum(axis=1))\n",
        "\n",
        "\n",
        "p0=np.random.uniform(-10,10,(10,2))\n",
        "p1=np.random.uniform(-10,10,(10,2))\n",
        "p=np.random.uniform(-10,10,(1,2))\n",
        "print(distance(p0,p1,p))"
      ]
    },
    {
      "cell_type": "markdown",
      "metadata": {
        "id": "Ze-keLsg72Fr"
      },
      "source": [
        "#### 79. Consider 2 sets of points P0,P1 describing lines (2d) and a set of points P, how to compute distance from each point j (P\\[j\\]) to each line i (P0\\[i\\],P1\\[i\\])? (★★★)"
      ]
    },
    {
      "cell_type": "code",
      "execution_count": null,
      "metadata": {
        "id": "GaT320UE72Fr",
        "colab": {
          "base_uri": "https://localhost:8080/"
        },
        "outputId": "58a67375-2382-4bc1-bfa5-150bbe99cb6f"
      },
      "outputs": [
        {
          "output_type": "stream",
          "name": "stdout",
          "text": [
            "[[ 0.50604126 11.34970275  8.38855548 12.89584267  4.58129703  4.71642506\n",
            "   0.28545651  5.41672764  5.80221104  0.78680189]\n",
            " [ 5.02233464 10.89663443 12.45148507 11.95515632  0.1568264   0.64343305\n",
            "   3.53520599  2.50696568  8.20074571  4.55570026]\n",
            " [11.55683961  5.77516585 13.74425074  6.41250853  3.33259994  0.67238796\n",
            "   3.19658847  4.20851934  6.46862719  5.21145436]\n",
            " [ 1.77204165  8.49102875  3.16910248 10.47969008  9.5149679   9.93508038\n",
            "   4.83822056  5.1525034   0.99598018  4.43060224]\n",
            " [10.62847998  1.06397199  5.7907868   0.11497613  3.35317646  7.26995599\n",
            "   5.29570778  7.49945645  2.10000656  3.01000386]\n",
            " [ 2.49093348 10.1105048   4.11125703 12.07826495  8.99423032  8.99747134\n",
            "   3.60904196  6.48375249  2.41674837  3.36833438]\n",
            " [ 8.80163508  7.15611684 12.39981808  8.02060925  1.35215811  0.68028474\n",
            "   2.46073201  1.8137301   6.2921045   4.09872915]\n",
            " [ 2.15455738  3.17510422  1.64743804  5.05319644  9.45097807 11.4386323\n",
            "   7.56814963  0.1386207   2.65245501  6.44109961]\n",
            " [ 4.43737277  2.03828052  2.76891922  3.72770009  7.80402662 10.31033786\n",
            "   6.9501528   2.118687    2.49762553  5.51125024]\n",
            " [ 3.32073944  4.07965087  2.9134202   6.52628351 14.90248362 16.01236554\n",
            "  11.1069734   3.58831975  5.14643496 10.62865917]]\n"
          ]
        }
      ],
      "source": [
        "p0=np.random.uniform(-10,10,(10,2))\n",
        "p1=np.random.uniform(-10,10,(10,2))\n",
        "p=np.random.uniform(-10,10,(10,2))\n",
        "print(np.array([distance(p0,p1,p_i)for p_i in p]))"
      ]
    },
    {
      "cell_type": "markdown",
      "metadata": {
        "id": "MFLfNeXT72Fs"
      },
      "source": [
        "#### 80. Consider an arbitrary array, write a function that extract a subpart with a fixed shape and centered on a given element (pad with a `fill` value when necessary) (★★★) \n",
        "(**hint**: minimum, maximum)"
      ]
    },
    {
      "cell_type": "code",
      "execution_count": null,
      "metadata": {
        "id": "qod6mYZ372Fs",
        "colab": {
          "base_uri": "https://localhost:8080/"
        },
        "outputId": "a3941aca-135e-4446-f777-18ef34cd39bc"
      },
      "outputs": [
        {
          "output_type": "stream",
          "name": "stdout",
          "text": [
            "[[ 7.36697771  9.57394794]\n",
            " [ 7.43889854  9.8605231 ]\n",
            " [-8.30580222 -8.22205036]\n",
            " [ 0.72764867  7.47071038]\n",
            " [ 6.35398954 -1.9021156 ]\n",
            " [ 9.12477136  0.96054027]\n",
            " [ 3.62841597 -1.72938653]\n",
            " [ 1.27832362 -6.16362245]\n",
            " [ 1.26887997  1.20347626]\n",
            " [ 9.18533477  6.93906726]]\n",
            "[[0 0 0 0 0]\n",
            " [0 0 0 0 0]\n",
            " [0 0 0 0 0]\n",
            " [0 0 0 0 0]\n",
            " [0 0 0 0 0]]\n"
          ]
        },
        {
          "output_type": "stream",
          "name": "stderr",
          "text": [
            "/usr/local/lib/python3.7/dist-packages/ipykernel_launcher.py:24: FutureWarning: Using a non-tuple sequence for multidimensional indexing is deprecated; use `arr[tuple(seq)]` instead of `arr[seq]`. In the future this will be interpreted as an array index, `arr[np.array(seq)]`, which will result either in an error or a different result.\n"
          ]
        }
      ],
      "source": [
        "A=np.random.uniform(-10,10,(10,2))\n",
        "shape=(5,5)\n",
        "fill=0\n",
        "position=(1,1)\n",
        "\n",
        "\n",
        "R=np.ones(shape,dtype=z.dtype)*fill\n",
        "P=np.array(list(position)).astype(int)\n",
        "Rs=np.array(list(R.shape)).astype(int)\n",
        "As=np.array(list(A.shape)).astype(int)\n",
        "\n",
        "R_start=np.zeros((len(shape),)).astype(int)\n",
        "R_stop=np.zeros((len(shape),)).astype(int)\n",
        "A_start=(P-Rs//2)\n",
        "A_stop=(P+Rs//2)+Rs%2\n",
        "\n",
        "R_start=(R_start-np.minimum(A_start,0)).tolist()\n",
        "A_start=(np.minimum(A_start,0)).tolist()\n",
        "R_stop=np.minimum(R_start,(R_stop-np.minimum(A_stop-As,0))).tolist()\n",
        "A_stop=(np.minimum(A_stop,As)).tolist()\n",
        "\n",
        "r=[slice(start,stop) for start,stop in zip(R_start,R_stop)]\n",
        "a=[slice(start,stop) for start,stop in zip(A_start,A_stop)]\n",
        "R[r] = A[a]\n",
        "print(A)\n",
        "print(R)"
      ]
    },
    {
      "cell_type": "markdown",
      "metadata": {
        "id": "oIDSx-7i72Fs"
      },
      "source": [
        "#### 81. Consider an array Z = \\[1,2,3,4,5,6,7,8,9,10,11,12,13,14\\], how to generate an array R = \\[\\[1,2,3,4\\], \\[2,3,4,5\\], \\[3,4,5,6\\], ..., \\[11,12,13,14\\]\\]? (★★★) \n",
        "(**hint**: stride\\_tricks.as\\_strided)"
      ]
    },
    {
      "cell_type": "code",
      "execution_count": null,
      "metadata": {
        "id": "N6ZhpQV372Fs",
        "colab": {
          "base_uri": "https://localhost:8080/"
        },
        "outputId": "598d739a-a271-4a51-f161-7c1eda448637"
      },
      "outputs": [
        {
          "output_type": "stream",
          "name": "stdout",
          "text": [
            "[[ 1  2  3  4]\n",
            " [ 2  3  4  5]\n",
            " [ 3  4  5  6]\n",
            " [ 4  5  6  7]\n",
            " [ 5  6  7  8]\n",
            " [ 6  7  8  9]\n",
            " [ 7  8  9 10]\n",
            " [ 8  9 10 11]\n",
            " [ 9 10 11 12]\n",
            " [10 11 12 13]\n",
            " [11 12 13 14]]\n"
          ]
        }
      ],
      "source": [
        "A = np.arange(1,15,dtype=np.uint32)\n",
        "R=stride_tricks.as_strided(A,(11,4),(4,4))\n",
        "print(R)"
      ]
    },
    {
      "cell_type": "markdown",
      "metadata": {
        "id": "AV6078Mz72Fs"
      },
      "source": [
        "#### 82. Compute a matrix rank (★★★) \n",
        "(**hint**: np.linalg.svd) (suggestion: np.linalg.svd)"
      ]
    },
    {
      "cell_type": "code",
      "execution_count": null,
      "metadata": {
        "id": "3REPWKnb72Fs",
        "colab": {
          "base_uri": "https://localhost:8080/"
        },
        "outputId": "99446666-2510-4925-a2ac-a0b15f2e087d"
      },
      "outputs": [
        {
          "output_type": "stream",
          "name": "stdout",
          "text": [
            "[[0.18150159 0.65930486 0.69653867 0.80720189 0.60273033 0.12093227\n",
            "  0.59230697 0.8056634  0.67855715 0.52559174]\n",
            " [0.13201233 0.6740904  0.01487935 0.55519849 0.77421791 0.404477\n",
            "  0.78547849 0.23961001 0.00769238 0.10484809]\n",
            " [0.96507021 0.57631804 0.68975678 0.15551666 0.09016829 0.96856184\n",
            "  0.2248673  0.30932566 0.08291347 0.6768611 ]\n",
            " [0.20613105 0.18705188 0.77190156 0.71182524 0.4018335  0.79338616\n",
            "  0.79755696 0.58686601 0.0220538  0.98906233]\n",
            " [0.66304183 0.85681098 0.97434326 0.93494341 0.96833735 0.94438916\n",
            "  0.72207708 0.80499197 0.79358327 0.74152862]\n",
            " [0.04534305 0.59975161 0.15908668 0.9061902  0.94644698 0.34160156\n",
            "  0.44223161 0.32825623 0.3271705  0.05843313]\n",
            " [0.01924366 0.05308424 0.06438004 0.29687785 0.06396771 0.57376771\n",
            "  0.11578656 0.43866178 0.97361952 0.59467657]\n",
            " [0.24018011 0.858972   0.08871078 0.93141721 0.38773261 0.66569346\n",
            "  0.10490666 0.80060188 0.34004042 0.77168077]\n",
            " [0.71826739 0.76912984 0.99739787 0.03612129 0.48970004 0.56174751\n",
            "  0.17569912 0.7009442  0.87700868 0.71786592]\n",
            " [0.62517177 0.89167558 0.09742322 0.25340631 0.98767732 0.21312284\n",
            "  0.56540793 0.66406826 0.82359664 0.54386433]]\n"
          ]
        }
      ],
      "source": [
        "A = np.random.uniform(0,1,(10,10))\n",
        "U,S,V = np.linalg.svd(A)\n",
        "rank=np.linalg.matrix_rank(A)\n",
        "print(A)"
      ]
    },
    {
      "cell_type": "markdown",
      "metadata": {
        "id": "9WkKGRaj72Ft"
      },
      "source": [
        "#### 83. How to find the most frequent value in an array? \n",
        "(**hint**: np.bincount, argmax)"
      ]
    },
    {
      "cell_type": "code",
      "execution_count": null,
      "metadata": {
        "id": "5A0cvlV472Ft",
        "colab": {
          "base_uri": "https://localhost:8080/"
        },
        "outputId": "2df1135b-4fac-4824-be75-648d4c93e63f"
      },
      "outputs": [
        {
          "output_type": "stream",
          "name": "stdout",
          "text": [
            "4\n"
          ]
        }
      ],
      "source": [
        "A = np.random.randint(0,10,50)\n",
        "print(np.bincount(A).argmax())"
      ]
    },
    {
      "cell_type": "markdown",
      "metadata": {
        "id": "-UselSmD72Ft"
      },
      "source": [
        "#### 84. Extract all the contiguous 3x3 blocks from a random 10x10 matrix (★★★) \n",
        "(**hint**: stride\\_tricks.as\\_strided)"
      ]
    },
    {
      "cell_type": "code",
      "execution_count": null,
      "metadata": {
        "id": "GP-FgnO572Ft",
        "colab": {
          "base_uri": "https://localhost:8080/"
        },
        "outputId": "12595152-7cb4-4e98-e774-4cd9883af4ba"
      },
      "outputs": [
        {
          "output_type": "stream",
          "name": "stdout",
          "text": [
            "[[[[0 4 0]\n",
            "   [2 1 3]\n",
            "   [2 4 2]]\n",
            "\n",
            "  [[4 0 0]\n",
            "   [1 3 4]\n",
            "   [4 2 3]]\n",
            "\n",
            "  [[0 0 4]\n",
            "   [3 4 1]\n",
            "   [2 3 3]]\n",
            "\n",
            "  [[0 4 3]\n",
            "   [4 1 1]\n",
            "   [3 3 4]]\n",
            "\n",
            "  [[4 3 2]\n",
            "   [1 1 3]\n",
            "   [3 4 2]]\n",
            "\n",
            "  [[3 2 2]\n",
            "   [1 3 0]\n",
            "   [4 2 3]]\n",
            "\n",
            "  [[2 2 1]\n",
            "   [3 0 3]\n",
            "   [2 3 2]]\n",
            "\n",
            "  [[2 1 0]\n",
            "   [0 3 1]\n",
            "   [3 2 2]]]\n",
            "\n",
            "\n",
            " [[[2 1 3]\n",
            "   [2 4 2]\n",
            "   [3 1 4]]\n",
            "\n",
            "  [[1 3 4]\n",
            "   [4 2 3]\n",
            "   [1 4 3]]\n",
            "\n",
            "  [[3 4 1]\n",
            "   [2 3 3]\n",
            "   [4 3 3]]\n",
            "\n",
            "  [[4 1 1]\n",
            "   [3 3 4]\n",
            "   [3 3 0]]\n",
            "\n",
            "  [[1 1 3]\n",
            "   [3 4 2]\n",
            "   [3 0 3]]\n",
            "\n",
            "  [[1 3 0]\n",
            "   [4 2 3]\n",
            "   [0 3 0]]\n",
            "\n",
            "  [[3 0 3]\n",
            "   [2 3 2]\n",
            "   [3 0 1]]\n",
            "\n",
            "  [[0 3 1]\n",
            "   [3 2 2]\n",
            "   [0 1 2]]]\n",
            "\n",
            "\n",
            " [[[2 4 2]\n",
            "   [3 1 4]\n",
            "   [3 1 3]]\n",
            "\n",
            "  [[4 2 3]\n",
            "   [1 4 3]\n",
            "   [1 3 0]]\n",
            "\n",
            "  [[2 3 3]\n",
            "   [4 3 3]\n",
            "   [3 0 1]]\n",
            "\n",
            "  [[3 3 4]\n",
            "   [3 3 0]\n",
            "   [0 1 0]]\n",
            "\n",
            "  [[3 4 2]\n",
            "   [3 0 3]\n",
            "   [1 0 0]]\n",
            "\n",
            "  [[4 2 3]\n",
            "   [0 3 0]\n",
            "   [0 0 4]]\n",
            "\n",
            "  [[2 3 2]\n",
            "   [3 0 1]\n",
            "   [0 4 3]]\n",
            "\n",
            "  [[3 2 2]\n",
            "   [0 1 2]\n",
            "   [4 3 0]]]\n",
            "\n",
            "\n",
            " [[[3 1 4]\n",
            "   [3 1 3]\n",
            "   [3 2 3]]\n",
            "\n",
            "  [[1 4 3]\n",
            "   [1 3 0]\n",
            "   [2 3 3]]\n",
            "\n",
            "  [[4 3 3]\n",
            "   [3 0 1]\n",
            "   [3 3 0]]\n",
            "\n",
            "  [[3 3 0]\n",
            "   [0 1 0]\n",
            "   [3 0 1]]\n",
            "\n",
            "  [[3 0 3]\n",
            "   [1 0 0]\n",
            "   [0 1 1]]\n",
            "\n",
            "  [[0 3 0]\n",
            "   [0 0 4]\n",
            "   [1 1 3]]\n",
            "\n",
            "  [[3 0 1]\n",
            "   [0 4 3]\n",
            "   [1 3 3]]\n",
            "\n",
            "  [[0 1 2]\n",
            "   [4 3 0]\n",
            "   [3 3 4]]]\n",
            "\n",
            "\n",
            " [[[3 1 3]\n",
            "   [3 2 3]\n",
            "   [1 4 3]]\n",
            "\n",
            "  [[1 3 0]\n",
            "   [2 3 3]\n",
            "   [4 3 0]]\n",
            "\n",
            "  [[3 0 1]\n",
            "   [3 3 0]\n",
            "   [3 0 3]]\n",
            "\n",
            "  [[0 1 0]\n",
            "   [3 0 1]\n",
            "   [0 3 4]]\n",
            "\n",
            "  [[1 0 0]\n",
            "   [0 1 1]\n",
            "   [3 4 3]]\n",
            "\n",
            "  [[0 0 4]\n",
            "   [1 1 3]\n",
            "   [4 3 1]]\n",
            "\n",
            "  [[0 4 3]\n",
            "   [1 3 3]\n",
            "   [3 1 0]]\n",
            "\n",
            "  [[4 3 0]\n",
            "   [3 3 4]\n",
            "   [1 0 1]]]\n",
            "\n",
            "\n",
            " [[[3 2 3]\n",
            "   [1 4 3]\n",
            "   [0 2 0]]\n",
            "\n",
            "  [[2 3 3]\n",
            "   [4 3 0]\n",
            "   [2 0 3]]\n",
            "\n",
            "  [[3 3 0]\n",
            "   [3 0 3]\n",
            "   [0 3 3]]\n",
            "\n",
            "  [[3 0 1]\n",
            "   [0 3 4]\n",
            "   [3 3 0]]\n",
            "\n",
            "  [[0 1 1]\n",
            "   [3 4 3]\n",
            "   [3 0 4]]\n",
            "\n",
            "  [[1 1 3]\n",
            "   [4 3 1]\n",
            "   [0 4 0]]\n",
            "\n",
            "  [[1 3 3]\n",
            "   [3 1 0]\n",
            "   [4 0 2]]\n",
            "\n",
            "  [[3 3 4]\n",
            "   [1 0 1]\n",
            "   [0 2 0]]]\n",
            "\n",
            "\n",
            " [[[1 4 3]\n",
            "   [0 2 0]\n",
            "   [3 1 4]]\n",
            "\n",
            "  [[4 3 0]\n",
            "   [2 0 3]\n",
            "   [1 4 0]]\n",
            "\n",
            "  [[3 0 3]\n",
            "   [0 3 3]\n",
            "   [4 0 0]]\n",
            "\n",
            "  [[0 3 4]\n",
            "   [3 3 0]\n",
            "   [0 0 1]]\n",
            "\n",
            "  [[3 4 3]\n",
            "   [3 0 4]\n",
            "   [0 1 2]]\n",
            "\n",
            "  [[4 3 1]\n",
            "   [0 4 0]\n",
            "   [1 2 4]]\n",
            "\n",
            "  [[3 1 0]\n",
            "   [4 0 2]\n",
            "   [2 4 2]]\n",
            "\n",
            "  [[1 0 1]\n",
            "   [0 2 0]\n",
            "   [4 2 0]]]\n",
            "\n",
            "\n",
            " [[[0 2 0]\n",
            "   [3 1 4]\n",
            "   [0 1 3]]\n",
            "\n",
            "  [[2 0 3]\n",
            "   [1 4 0]\n",
            "   [1 3 2]]\n",
            "\n",
            "  [[0 3 3]\n",
            "   [4 0 0]\n",
            "   [3 2 1]]\n",
            "\n",
            "  [[3 3 0]\n",
            "   [0 0 1]\n",
            "   [2 1 3]]\n",
            "\n",
            "  [[3 0 4]\n",
            "   [0 1 2]\n",
            "   [1 3 3]]\n",
            "\n",
            "  [[0 4 0]\n",
            "   [1 2 4]\n",
            "   [3 3 3]]\n",
            "\n",
            "  [[4 0 2]\n",
            "   [2 4 2]\n",
            "   [3 3 4]]\n",
            "\n",
            "  [[0 2 0]\n",
            "   [4 2 0]\n",
            "   [3 4 4]]]]\n"
          ]
        }
      ],
      "source": [
        "a=np.random.randint(0,5,(10,10))\n",
        "n=3\n",
        "i=1+(a.shape[0]-3)\n",
        "j=1+(a.shape[1]-3)\n",
        "C=stride_tricks.as_strided(a,shape=(i,j,n,n),strides=a.strides+a.strides)\n",
        "print(C)"
      ]
    },
    {
      "cell_type": "markdown",
      "metadata": {
        "id": "Om9uRfq172Ft"
      },
      "source": [
        "#### 85. Create a 2D array subclass such that Z\\[i,j\\] == Z\\[j,i\\] (★★★) \n",
        "(**hint**: class method)"
      ]
    },
    {
      "cell_type": "code",
      "execution_count": null,
      "metadata": {
        "id": "lajKgrsN72Ft",
        "colab": {
          "base_uri": "https://localhost:8080/"
        },
        "outputId": "bbf11f65-73ed-48d3-9cb4-92792aebd11c"
      },
      "outputs": [
        {
          "output_type": "stream",
          "name": "stdout",
          "text": [
            "[[ 2 10  6  3  5]\n",
            " [10  4 12  3  6]\n",
            " [ 6 12  0 42 13]\n",
            " [ 3  3 14  5  8]\n",
            " [ 5  6 13  8  4]]\n"
          ]
        }
      ],
      "source": [
        "class Symetric(np.ndarray):\n",
        "  def _setitem_(self,index,value):\n",
        "    i,j = index\n",
        "    super(Symetric,self)._setitem_((i,j),value)\n",
        "    super(Symetric,self)._setitem_((j,i),value)\n",
        "\n",
        "def symetric(A):\n",
        "  return np.asarray(A + A.T - np.diag(A.diagonal())).view(Symetric)\n",
        "\n",
        "S = symetric(np.random.randint(0,10,(5,5)))\n",
        "S[2,3] = 42\n",
        "print(S)"
      ]
    },
    {
      "cell_type": "markdown",
      "metadata": {
        "id": "7GZqBFtO72Ft"
      },
      "source": [
        "#### 86. Consider a set of p matrices wich shape (n,n) and a set of p vectors with shape (n,1). How to compute the sum of of the p matrix products at once? (result has shape (n,1)) (★★★) \n",
        "(**hint**: np.tensordot)"
      ]
    },
    {
      "cell_type": "code",
      "execution_count": null,
      "metadata": {
        "id": "xumwdb4A72Ft",
        "colab": {
          "base_uri": "https://localhost:8080/"
        },
        "outputId": "e1ad6327-eeb2-4391-8cd9-e8bfac93061f"
      },
      "outputs": [
        {
          "output_type": "stream",
          "name": "stdout",
          "text": [
            "[[200.]\n",
            " [200.]\n",
            " [200.]\n",
            " [200.]\n",
            " [200.]\n",
            " [200.]\n",
            " [200.]\n",
            " [200.]\n",
            " [200.]\n",
            " [200.]\n",
            " [200.]\n",
            " [200.]\n",
            " [200.]\n",
            " [200.]\n",
            " [200.]\n",
            " [200.]\n",
            " [200.]\n",
            " [200.]\n",
            " [200.]\n",
            " [200.]]\n"
          ]
        }
      ],
      "source": [
        "p,n = 10,20\n",
        "M = np.ones((p,n,n))\n",
        "V = np.ones((p,n,1))\n",
        "S = tensordot(M,V,axes=[[0,2],[0,1]])\n",
        "print(S)"
      ]
    },
    {
      "cell_type": "markdown",
      "metadata": {
        "id": "MN5SqV6J72Ft"
      },
      "source": [
        "#### 87. Consider a 16x16 array, how to get the block-sum (block size is 4x4)? (★★★) \n",
        "(**hint**: np.add.reduceat)"
      ]
    },
    {
      "cell_type": "code",
      "execution_count": null,
      "metadata": {
        "id": "BxMgSldE72Ft",
        "colab": {
          "base_uri": "https://localhost:8080/"
        },
        "outputId": "0fb52dcb-3bf2-4335-e851-7b55d1558753"
      },
      "outputs": [
        {
          "output_type": "stream",
          "name": "stdout",
          "text": [
            "[[16. 16. 16. 16.]\n",
            " [16. 16. 16. 16.]\n",
            " [16. 16. 16. 16.]\n",
            " [16. 16. 16. 16.]]\n"
          ]
        }
      ],
      "source": [
        "A=np.ones((16,16))\n",
        "k=4\n",
        "S=np.add.reduceat(np.add.reduceat(A,np.arange(0,A.shape[0],k), axis=0),\n",
        "                                     np.arange(0,A.shape[1],k), axis=1)\n",
        "print(S)"
      ]
    },
    {
      "cell_type": "markdown",
      "metadata": {
        "id": "HQvsvjA-72Ft"
      },
      "source": [
        "#### 88. How to implement the Game of Life using numpy arrays? (★★★)"
      ]
    },
    {
      "cell_type": "code",
      "execution_count": null,
      "metadata": {
        "id": "ys7tWg7t72Fu",
        "colab": {
          "base_uri": "https://localhost:8080/"
        },
        "outputId": "af8dcb1f-a0aa-4f9f-8510-e75aa3ced224"
      },
      "outputs": [
        {
          "output_type": "stream",
          "name": "stdout",
          "text": [
            "[[0 0 0 0 0 0 0 0 0 0 0 0 0 0 0 0 0 0 0 0 0 0 0 0 0 0 0 0 0 0 0 0 0 0 0 0\n",
            "  0 0 0 0 0 0 0 0 0 0 0 0 0 0]\n",
            " [0 0 0 0 0 0 0 0 0 0 0 0 0 0 0 0 0 0 0 0 0 0 0 0 0 0 0 0 0 0 0 0 0 0 0 0\n",
            "  0 0 0 0 0 0 0 0 0 0 0 0 0 0]\n",
            " [0 0 0 0 0 0 0 0 0 0 0 0 0 0 1 0 0 0 0 0 0 0 0 0 0 0 0 0 0 0 0 0 0 0 0 0\n",
            "  0 0 0 0 0 0 0 0 0 1 1 0 0 0]\n",
            " [0 0 0 0 0 0 0 0 0 0 0 0 0 0 1 0 0 0 0 0 0 0 0 0 0 0 0 0 0 0 0 0 0 0 0 0\n",
            "  0 0 0 0 0 0 0 0 0 1 1 0 0 0]\n",
            " [0 0 0 0 0 0 0 0 0 0 0 0 0 0 0 0 0 0 0 0 0 0 0 0 0 0 0 0 0 0 0 0 0 0 0 0\n",
            "  0 0 0 0 0 0 0 0 0 0 0 0 0 0]\n",
            " [0 0 0 0 0 0 0 0 0 0 0 0 0 0 0 0 0 0 0 0 0 0 0 0 0 0 0 0 0 0 0 0 0 0 0 0\n",
            "  0 0 0 0 0 0 0 0 0 0 0 0 0 0]\n",
            " [0 0 0 0 1 0 0 0 0 0 0 1 1 0 0 0 0 0 0 0 0 0 0 0 0 0 0 0 0 0 0 0 0 0 0 0\n",
            "  0 0 0 0 0 0 0 0 0 0 1 1 0 0]\n",
            " [0 0 1 1 0 0 0 0 1 1 0 0 0 0 0 0 0 0 0 0 0 0 0 0 0 0 0 0 0 0 0 0 0 0 0 0\n",
            "  0 0 0 0 0 0 0 0 0 1 0 0 1 0]\n",
            " [0 1 1 0 0 0 0 1 0 1 0 0 0 0 0 0 0 0 0 0 0 0 0 0 0 0 0 0 0 0 0 0 0 0 0 0\n",
            "  0 0 0 0 0 0 0 0 0 0 1 1 0 0]\n",
            " [0 1 0 0 0 1 0 1 0 0 0 0 0 1 0 0 0 0 0 0 0 0 0 0 0 0 1 1 0 0 0 0 0 0 0 0\n",
            "  0 0 0 0 0 0 0 0 0 0 0 0 0 0]\n",
            " [0 1 1 0 0 0 0 0 0 1 1 0 0 1 0 0 0 0 0 0 0 0 0 0 0 0 1 1 0 0 0 0 0 0 0 0\n",
            "  0 0 0 0 0 0 0 0 0 0 0 0 0 0]\n",
            " [0 0 0 0 0 0 0 0 0 0 0 1 1 1 0 0 0 0 0 0 0 0 0 0 0 0 0 0 0 0 0 0 0 0 0 0\n",
            "  0 0 0 0 0 0 0 0 0 0 0 0 0 0]\n",
            " [0 0 0 0 0 0 0 0 0 0 0 0 1 1 0 0 0 0 0 0 0 0 0 0 0 0 0 0 0 0 0 0 0 0 0 0\n",
            "  0 0 0 0 0 0 0 0 0 0 0 0 0 0]\n",
            " [0 0 0 0 0 0 0 0 0 0 0 0 0 0 0 0 0 0 0 0 0 0 0 0 0 0 0 0 0 0 0 0 0 0 0 0\n",
            "  0 0 0 0 0 0 0 0 0 0 0 0 0 0]\n",
            " [0 0 0 0 0 0 0 0 0 0 0 0 0 0 0 0 0 0 0 0 0 0 0 0 0 0 0 0 0 0 0 0 0 0 0 0\n",
            "  0 0 0 0 0 0 0 0 0 0 0 0 0 0]\n",
            " [0 0 0 0 0 0 0 0 0 0 0 0 0 0 0 0 0 0 0 0 0 0 0 0 0 0 0 0 0 0 0 0 0 0 0 0\n",
            "  0 0 0 0 0 0 0 0 0 0 0 0 0 0]\n",
            " [0 0 0 0 0 0 0 0 0 0 0 0 0 0 0 0 0 0 0 0 0 0 0 0 0 0 0 0 0 0 0 1 1 1 0 0\n",
            "  0 0 0 0 0 0 0 0 0 0 0 0 0 0]\n",
            " [0 0 0 0 0 0 0 0 0 0 0 0 0 0 0 0 0 0 0 0 0 0 0 0 0 0 0 0 0 0 0 0 0 0 0 0\n",
            "  0 0 0 0 0 0 0 0 0 0 0 0 0 0]\n",
            " [0 0 0 1 0 0 0 0 0 0 0 0 0 0 0 0 0 0 0 0 0 0 0 0 0 0 0 0 0 0 0 0 0 0 0 0\n",
            "  0 0 0 0 0 0 0 0 0 0 0 0 0 0]\n",
            " [0 0 1 0 1 0 0 0 0 0 0 0 0 0 0 0 0 0 0 0 0 0 0 0 0 0 0 0 0 0 0 0 0 0 0 0\n",
            "  0 0 0 0 0 0 0 0 0 0 0 0 0 0]\n",
            " [0 1 0 0 0 1 0 0 1 1 0 0 0 0 0 0 0 0 0 0 0 0 0 0 0 0 0 0 0 0 0 0 0 0 0 0\n",
            "  0 0 0 0 0 0 0 0 0 0 0 0 0 0]\n",
            " [0 1 0 0 0 1 1 1 1 1 0 0 0 0 0 0 0 0 0 0 0 0 0 0 0 0 0 0 0 0 0 0 0 0 0 0\n",
            "  0 0 0 0 0 0 0 0 0 0 0 0 0 0]\n",
            " [0 0 0 0 0 0 1 0 0 0 0 0 0 0 0 0 0 0 0 0 0 0 0 0 0 0 0 0 0 0 0 0 0 0 0 0\n",
            "  0 0 0 0 0 0 0 0 0 0 0 0 0 0]\n",
            " [0 1 0 0 0 1 1 0 0 0 0 0 0 0 0 0 0 0 0 0 0 0 0 0 0 0 0 0 0 0 0 0 0 0 0 0\n",
            "  0 0 0 0 0 0 0 0 0 0 0 0 0 0]\n",
            " [0 0 1 1 1 0 0 0 0 0 0 0 0 0 0 0 0 0 0 0 0 1 1 0 0 0 0 0 0 0 0 0 0 0 0 0\n",
            "  0 0 0 0 0 0 0 0 0 0 0 0 0 0]\n",
            " [0 0 0 0 0 0 0 0 0 0 0 0 0 0 0 0 0 0 0 0 1 0 0 1 0 0 0 0 0 0 0 0 0 0 0 0\n",
            "  0 0 0 0 0 0 0 0 0 0 0 0 0 0]\n",
            " [0 0 0 0 0 0 0 1 0 0 0 0 0 0 0 0 0 0 0 0 1 0 1 0 0 0 0 0 0 0 0 0 0 0 0 0\n",
            "  0 0 0 0 0 0 0 0 0 0 0 0 0 0]\n",
            " [0 0 0 0 0 0 0 1 1 0 0 0 0 0 0 0 0 0 0 0 0 1 0 0 0 0 0 0 0 0 0 0 0 0 0 0\n",
            "  0 0 0 0 0 0 0 0 0 0 0 0 0 0]\n",
            " [0 0 0 0 0 0 0 1 1 1 0 0 0 0 0 0 0 0 0 0 0 0 0 0 0 0 0 0 0 0 0 0 0 0 0 0\n",
            "  0 0 0 0 0 0 0 0 0 0 0 0 0 0]\n",
            " [0 0 0 0 0 0 0 0 1 1 0 0 0 0 0 0 0 0 0 0 0 0 0 0 0 0 0 0 0 0 0 0 0 0 0 0\n",
            "  0 0 0 0 0 0 0 0 0 0 0 0 0 0]\n",
            " [0 0 0 0 0 0 0 1 1 1 0 0 0 0 0 0 0 0 0 0 0 0 0 0 0 0 0 0 0 0 0 0 0 0 0 0\n",
            "  1 0 0 0 0 0 0 0 0 0 0 0 0 0]\n",
            " [0 0 0 0 0 0 1 1 1 1 0 0 0 0 0 0 0 0 0 0 0 0 0 0 0 0 0 0 0 0 1 1 0 0 0 1\n",
            "  0 1 0 0 1 1 0 0 0 0 0 0 0 0]\n",
            " [0 0 0 0 0 1 1 0 0 0 1 0 0 0 0 0 0 0 0 0 0 0 0 0 0 0 0 0 0 0 1 1 0 0 0 1\n",
            "  1 0 0 0 1 1 0 0 0 0 0 0 0 0]\n",
            " [0 0 0 0 0 1 1 0 0 0 1 1 0 0 0 0 0 0 0 0 0 0 0 0 0 0 0 0 0 0 0 0 0 0 0 0\n",
            "  0 0 0 0 0 0 0 0 0 0 0 0 0 0]\n",
            " [0 0 0 0 0 0 0 0 0 0 0 0 0 0 0 0 0 0 0 0 0 0 0 0 0 0 0 0 0 0 0 0 0 0 0 0\n",
            "  0 0 0 0 0 0 0 0 0 0 0 0 0 0]\n",
            " [0 0 0 0 0 1 1 0 0 0 0 0 0 0 0 0 0 0 0 0 0 0 0 0 0 0 0 0 0 0 0 0 0 0 0 0\n",
            "  0 0 0 1 1 0 0 0 0 0 0 0 0 0]\n",
            " [0 0 0 0 1 0 1 0 0 0 0 0 0 0 0 0 0 0 0 0 0 0 0 0 0 0 0 0 0 0 0 0 0 0 0 0\n",
            "  0 0 1 0 0 1 0 0 0 0 0 0 0 0]\n",
            " [0 0 0 0 0 1 0 0 0 0 0 0 0 0 0 0 0 0 0 0 0 0 0 0 0 0 0 0 0 0 0 0 0 0 0 0\n",
            "  0 0 0 1 0 1 0 0 0 0 0 0 0 0]\n",
            " [0 0 0 0 0 0 0 0 0 0 0 0 0 0 0 0 0 0 0 0 1 1 1 0 0 0 0 0 0 0 0 0 0 0 0 0\n",
            "  0 0 0 0 1 0 0 0 0 0 0 0 0 0]\n",
            " [0 0 0 0 0 0 0 0 0 0 0 0 0 0 0 0 0 0 0 0 0 0 0 0 0 0 0 0 0 0 0 0 0 0 0 0\n",
            "  0 0 0 0 0 0 0 0 0 0 0 0 0 0]\n",
            " [0 0 0 0 0 0 0 0 0 0 0 0 0 0 0 0 0 0 0 0 0 0 0 0 0 0 0 0 0 0 1 1 0 0 0 0\n",
            "  0 0 0 0 0 0 0 0 0 0 0 0 0 0]\n",
            " [0 0 0 0 0 0 0 0 0 0 0 0 0 0 0 0 0 0 0 0 0 0 0 0 0 0 0 0 0 0 1 1 0 0 0 0\n",
            "  0 0 0 0 0 0 0 0 0 0 0 0 0 0]\n",
            " [0 0 0 0 0 0 0 0 0 0 0 0 0 0 0 0 0 0 0 0 0 0 0 0 0 0 0 0 0 0 0 0 0 0 0 0\n",
            "  0 0 0 0 0 0 0 0 0 0 0 0 0 0]\n",
            " [0 0 0 0 0 0 0 0 0 0 0 0 0 0 0 0 0 0 0 0 0 0 0 0 0 0 0 0 0 0 0 0 0 0 0 0\n",
            "  0 0 0 0 0 0 0 0 0 0 0 0 0 0]\n",
            " [0 0 0 0 0 0 0 0 0 0 0 0 0 0 0 0 0 0 0 0 0 0 0 0 0 0 0 0 0 0 0 0 0 0 0 0\n",
            "  0 0 0 0 0 0 0 0 0 0 0 0 0 0]\n",
            " [0 0 0 0 0 0 0 0 0 0 0 0 0 0 0 0 0 0 0 0 0 0 0 0 0 0 0 0 0 0 0 0 0 0 0 0\n",
            "  0 0 0 0 0 0 0 0 0 0 0 0 0 0]\n",
            " [0 0 0 0 1 1 0 0 0 0 0 0 0 0 0 0 0 0 0 0 0 0 0 0 0 0 0 0 0 0 0 0 0 0 0 0\n",
            "  0 0 0 0 0 0 0 0 0 0 0 0 0 0]\n",
            " [0 0 0 0 1 1 0 0 0 0 0 0 0 0 0 0 0 0 0 0 0 0 0 0 0 0 0 0 0 0 0 0 0 0 0 0\n",
            "  0 0 0 0 0 0 0 0 0 0 0 1 1 0]\n",
            " [0 0 0 0 0 0 0 0 0 0 0 0 0 0 0 0 0 0 0 0 0 0 0 0 0 0 0 0 0 0 0 0 0 0 0 0\n",
            "  0 0 0 0 0 0 0 0 0 0 0 1 1 0]\n",
            " [0 0 0 0 0 0 0 0 0 0 0 0 0 0 0 0 0 0 0 0 0 0 0 0 0 0 0 0 0 0 0 0 0 0 0 0\n",
            "  0 0 0 0 0 0 0 0 0 0 0 0 0 0]]\n"
          ]
        }
      ],
      "source": [
        "def iterate(Z):\n",
        "   \n",
        "    N = (Z[0:-2,0:-2] + Z[0:-2,1:-1] + Z[0:-2,2:] +\n",
        "         Z[1:-1,0:-2]                + Z[1:-1,2:] +\n",
        "         Z[2:  ,0:-2] + Z[2:  ,1:-1] + Z[2:  ,2:])\n",
        "\n",
        "   \n",
        "    birth = (N==3) & (Z[1:-1,1:-1]==0)\n",
        "    survive = ((N==2) | (N==3)) & (Z[1:-1,1:-1]==1)\n",
        "    Z[...] = 0\n",
        "    Z[1:-1,1:-1][birth | survive] = 1\n",
        "    return Z\n",
        "\n",
        "Z = np.random.randint(0,2,(50,50))\n",
        "for i in range(100): Z = iterate(Z)\n",
        "print(Z)"
      ]
    },
    {
      "cell_type": "markdown",
      "metadata": {
        "id": "1o2MCuuj72Fu"
      },
      "source": [
        "#### 89. How to get the n largest values of an array (★★★) \n",
        "(**hint**: np.argsort | np.argpartition)"
      ]
    },
    {
      "cell_type": "code",
      "execution_count": null,
      "metadata": {
        "id": "3L_AEpV172Fu",
        "colab": {
          "base_uri": "https://localhost:8080/"
        },
        "outputId": "fdc63b03-5f22-4dfe-f8b9-f2018ebeab52"
      },
      "outputs": [
        {
          "output_type": "stream",
          "name": "stdout",
          "text": [
            "[998 997 999 996 995]\n"
          ]
        }
      ],
      "source": [
        "A = np.arange(1000)\n",
        "np.random.shuffle(A)\n",
        "n=5\n",
        "print(A[np.argpartition(-A,n)][:n])"
      ]
    },
    {
      "cell_type": "markdown",
      "metadata": {
        "id": "1w6BhcDg72Fu"
      },
      "source": [
        "#### 90. Given an arbitrary number of vectors, build the cartesian product (every combinations of every item) (★★★) \n",
        "(**hint**: np.indices)"
      ]
    },
    {
      "cell_type": "code",
      "execution_count": null,
      "metadata": {
        "scrolled": true,
        "id": "nRmHZMhs72Fu",
        "colab": {
          "base_uri": "https://localhost:8080/"
        },
        "outputId": "1e1349ab-9c2f-4e4e-91b4-055efe8d91bb"
      },
      "outputs": [
        {
          "output_type": "stream",
          "name": "stdout",
          "text": [
            "[[1 0 0]\n",
            " [1 0 1]\n",
            " [1 1 0]\n",
            " [1 1 1]\n",
            " [2 0 0]\n",
            " [2 0 1]\n",
            " [2 1 0]\n",
            " [2 1 1]\n",
            " [3 0 0]\n",
            " [3 0 1]\n",
            " [3 1 0]\n",
            " [3 1 1]]\n"
          ]
        }
      ],
      "source": [
        "def cartesion(arrays):\n",
        "  arrays = [np.asarray(a) for a in arrays]\n",
        "  shape = (len(x) for x in arrays)\n",
        "\n",
        "  ix = np.indices(shape,dtype=int)\n",
        "  ix = ix.reshape(len(arrays), -1).T\n",
        "\n",
        "  for n, arr in enumerate(arrays):\n",
        "    ix[:,n] = arrays[n][ix[:,n]]\n",
        "    return ix\n",
        "\n",
        "print(cartesion(([1,2,3],[4,5],[6,7])))"
      ]
    },
    {
      "cell_type": "markdown",
      "metadata": {
        "id": "cbeG8vet72Fu"
      },
      "source": [
        "#### 91. How to create a record array from a regular array? (★★★) \n",
        "(**hint**: np.core.records.fromarrays)"
      ]
    },
    {
      "cell_type": "code",
      "execution_count": null,
      "metadata": {
        "id": "RvhfNOPk72Fu",
        "colab": {
          "base_uri": "https://localhost:8080/"
        },
        "outputId": "138fc35a-b3a3-4ffe-cc57-dc73bd896066"
      },
      "outputs": [
        {
          "output_type": "stream",
          "name": "stdout",
          "text": [
            "[(b'hello', 2.5, 3) (b'world', 3.6, 2)]\n"
          ]
        }
      ],
      "source": [
        "a=np.array([('hello',2.5,3),\n",
        "            ('world',3.6,2)])\n",
        "R=np.core.records.fromarrays(a.T,\n",
        "                             names='col1,col2,col3',\n",
        "                             formats='S8,f8,i8')\n",
        "print(R)"
      ]
    },
    {
      "cell_type": "markdown",
      "metadata": {
        "id": "BexVoncO72Fu"
      },
      "source": [
        "#### 92. Consider a large vector Z, compute Z to the power of 3 using 3 different methods (★★★) \n",
        "(**hint**: np.power, \\*, np.einsum)"
      ]
    },
    {
      "cell_type": "code",
      "execution_count": null,
      "metadata": {
        "id": "3qDpnlC672Fu",
        "colab": {
          "base_uri": "https://localhost:8080/"
        },
        "outputId": "09e8ae29-e638-4360-d9a5-75a06f9ebc6a"
      },
      "outputs": [
        {
          "output_type": "stream",
          "name": "stdout",
          "text": [
            "3.74 s ± 233 ms per loop (mean ± std. dev. of 7 runs, 1 loop each)\n",
            "172 ms ± 3.32 ms per loop (mean ± std. dev. of 7 runs, 10 loops each)\n",
            "162 ms ± 6.66 ms per loop (mean ± std. dev. of 7 runs, 10 loops each)\n"
          ]
        }
      ],
      "source": [
        "x=np.random.rand(int(5e7))\n",
        "\n",
        "%timeit np.power(x,3)\n",
        "%timeit x*x*x\n",
        "%timeit np.einsum('i,i,i->i',x,x,x)"
      ]
    },
    {
      "cell_type": "markdown",
      "metadata": {
        "id": "h8aw5oSb72Fu"
      },
      "source": [
        "#### 93. Consider two arrays A and B of shape (8,3) and (2,2). How to find rows of A that contain elements of each row of B regardless of the order of the elements in B? (★★★) \n",
        "(**hint**: np.where)"
      ]
    },
    {
      "cell_type": "code",
      "execution_count": null,
      "metadata": {
        "id": "9C-t96Pw72Fu",
        "colab": {
          "base_uri": "https://localhost:8080/"
        },
        "outputId": "c944d957-87c8-4a14-80e8-68d03dbd0850"
      },
      "outputs": [
        {
          "output_type": "stream",
          "name": "stdout",
          "text": [
            "[0 1 2 5 6 7]\n"
          ]
        }
      ],
      "source": [
        "A=np.random.randint(0,5,(8,3))\n",
        "B=np.random.randint(0,5,(2,2))\n",
        "\n",
        "C=(A[...,np.newaxis,np.newaxis] ==B)\n",
        "rows = np.where (C.any((3,1)).all(1))[0]\n",
        "print(rows)"
      ]
    },
    {
      "cell_type": "markdown",
      "metadata": {
        "id": "-035jOs972Fu"
      },
      "source": [
        "#### 94. Considering a 10x3 matrix, extract rows with unequal values (e.g. \\[2,2,3\\]) (★★★)"
      ]
    },
    {
      "cell_type": "code",
      "execution_count": null,
      "metadata": {
        "id": "D2tWQ3ig72Fu",
        "colab": {
          "base_uri": "https://localhost:8080/"
        },
        "outputId": "8458fc0d-ab2d-40c4-fa83-9487c270ad92"
      },
      "outputs": [
        {
          "output_type": "stream",
          "name": "stdout",
          "text": [
            "[[4 2 2]\n",
            " [0 4 0]\n",
            " [4 2 4]\n",
            " [3 1 0]\n",
            " [3 3 2]\n",
            " [4 0 3]\n",
            " [3 0 1]\n",
            " [4 4 2]\n",
            " [1 1 2]\n",
            " [2 1 2]]\n"
          ]
        }
      ],
      "source": [
        "A=np.random.randint(0,5,(10,3))\n",
        "print(A)\n"
      ]
    },
    {
      "cell_type": "markdown",
      "metadata": {
        "id": "UvzlTl-n72Fv"
      },
      "source": [
        "#### 95. Convert a vector of ints into a matrix binary representation (★★★) \n",
        "(**hint**: np.unpackbits)"
      ]
    },
    {
      "cell_type": "code",
      "execution_count": null,
      "metadata": {
        "id": "7oZNuzZ772Fv",
        "colab": {
          "base_uri": "https://localhost:8080/"
        },
        "outputId": "d736408d-a41b-4976-a609-3fbea54150c5"
      },
      "outputs": [
        {
          "output_type": "stream",
          "name": "stdout",
          "text": [
            "[[0 0 0 0 0 0 0 0]\n",
            " [0 0 0 0 0 0 0 1]\n",
            " [0 0 0 0 0 0 1 0]\n",
            " [0 0 0 0 0 0 1 1]\n",
            " [0 0 0 0 1 1 1 1]\n",
            " [0 0 0 1 0 0 0 0]\n",
            " [0 0 1 0 0 0 0 0]\n",
            " [0 1 0 0 0 0 0 0]\n",
            " [1 0 0 0 0 0 0 0]]\n"
          ]
        }
      ],
      "source": [
        "I = np.array([0,1,2,3,15,16,32,64,128],dtype=np.uint8)\n",
        "print(np.unpackbits(I[:,np.newaxis],axis=1))"
      ]
    },
    {
      "cell_type": "markdown",
      "metadata": {
        "id": "9uykcoZH72Fv"
      },
      "source": [
        "#### 96. Given a two dimensional array, how to extract unique rows? (★★★) \n",
        "(**hint**: np.ascontiguousarray)"
      ]
    },
    {
      "cell_type": "code",
      "execution_count": null,
      "metadata": {
        "id": "cHQQpGAL72Fv",
        "colab": {
          "base_uri": "https://localhost:8080/"
        },
        "outputId": "2f82fb11-5d8f-4e00-f1d9-14e788fea11d"
      },
      "outputs": [
        {
          "output_type": "stream",
          "name": "stdout",
          "text": [
            "[[0 4 0]\n",
            " [1 1 2]\n",
            " [2 1 2]\n",
            " [3 0 1]\n",
            " [3 1 0]\n",
            " [3 3 2]\n",
            " [4 0 3]\n",
            " [4 2 2]\n",
            " [4 2 4]\n",
            " [4 4 2]]\n"
          ]
        }
      ],
      "source": [
        "a=np.random.randint(0,2,(6,3))\n",
        "uZ= np.unique(A,axis=0)\n",
        "print(uZ)"
      ]
    },
    {
      "cell_type": "markdown",
      "metadata": {
        "id": "WyZ1Sbsu72Fv"
      },
      "source": [
        "#### 97. Considering 2 vectors A & B, write the einsum equivalent of inner, outer, sum, and mul function (★★★) \n",
        "(**hint**: np.einsum)"
      ]
    },
    {
      "cell_type": "code",
      "execution_count": null,
      "metadata": {
        "id": "67HqzE_372Fv",
        "colab": {
          "base_uri": "https://localhost:8080/"
        },
        "outputId": "bb18a355-abc7-48c9-fb70-776d9dbe75e7"
      },
      "outputs": [
        {
          "output_type": "execute_result",
          "data": {
            "text/plain": [
              "array([[0.33573561, 0.50309545, 0.28737562, 0.0489616 , 0.28383816,\n",
              "        0.48297304, 0.2305659 , 0.29085954, 0.36371548, 0.22664441],\n",
              "       [0.2263904 , 0.33924307, 0.1937807 , 0.03301537, 0.19139535,\n",
              "        0.32567429, 0.15547325, 0.19612994, 0.24525755, 0.15282894],\n",
              "       [0.06702271, 0.10043266, 0.05736863, 0.00977418, 0.05666245,\n",
              "        0.09641564, 0.04602774, 0.05806413, 0.07260832, 0.0452449 ],\n",
              "       [0.16391126, 0.24561889, 0.14030117, 0.0239038 , 0.13857413,\n",
              "        0.23579482, 0.11256579, 0.14200207, 0.17757146, 0.11065126],\n",
              "       [0.07826492, 0.11727897, 0.06699149, 0.01141367, 0.06616686,\n",
              "        0.11258814, 0.05374831, 0.06780365, 0.08478744, 0.05283415],\n",
              "       [0.29041405, 0.43518168, 0.24858226, 0.04235218, 0.24552233,\n",
              "        0.41777563, 0.19944139, 0.25159588, 0.31461687, 0.19604926],\n",
              "       [0.62734864, 0.94007378, 0.53698416, 0.09148863, 0.53037414,\n",
              "        0.90247346, 0.43083068, 0.54349413, 0.67963126, 0.42350306],\n",
              "       [0.38054563, 0.57024268, 0.32573112, 0.05549641, 0.32172152,\n",
              "        0.54743456, 0.2613391 , 0.32968003, 0.41225992, 0.25689422],\n",
              "       [0.23708004, 0.35526137, 0.20293059, 0.03457428, 0.20043261,\n",
              "        0.3410519 , 0.16281434, 0.20539076, 0.25683806, 0.16004518],\n",
              "       [0.56904574, 0.85270765, 0.48707932, 0.0829861 , 0.48108361,\n",
              "        0.81860173, 0.39079126, 0.49298429, 0.61646946, 0.38414464]])"
            ]
          },
          "metadata": {},
          "execution_count": 341
        }
      ],
      "source": [
        "A = np.random.uniform(0,1,10)\n",
        "B = np.random.uniform(0,1,10)\n",
        "\n",
        "np.einsum('i->',A) # np.sum(A)\n",
        "np.einsum('i,i->i',A,B) # A*B\n",
        "np.einsum('i,i',A,B) # np.inner(A,B)\n",
        "np.einsum('i,j->ij',A,B) #np.outer(A,B)"
      ]
    },
    {
      "cell_type": "markdown",
      "metadata": {
        "id": "NijVtBbW72Fv"
      },
      "source": [
        "#### 98. Considering a path described by two vectors (X,Y), how to sample it using equidistant samples (★★★)? \n",
        "(**hint**: np.cumsum, np.interp)"
      ]
    },
    {
      "cell_type": "code",
      "execution_count": null,
      "metadata": {
        "collapsed": true,
        "id": "uDu6en5V72Fv"
      },
      "outputs": [],
      "source": [
        "phi=np.arange(0,10*np.pi,0.1)\n",
        "a=1\n",
        "x=a*phi*np.cos(phi)\n",
        "y=a*phi*np.sin(phi)\n",
        "\n",
        "dr = (np.diff(x)**2 + np.diff(y)**2)**.5\n",
        "r = np.zeros_like(x)\n",
        "r[1:] = np.cumsum(dr)\n",
        "r_int = np.linspace(0,r.max(),200)\n",
        "x_int = np.interp(r_int,r,x)\n",
        "y_int = np.interp(r_int,r,y)"
      ]
    },
    {
      "cell_type": "markdown",
      "metadata": {
        "id": "2Qajd1FJ72Fv"
      },
      "source": [
        "#### 99. Given an integer n and a 2D array X, select from X the rows which can be interpreted as draws from a multinomial distribution with n degrees, i.e., the rows which only contain integers and which sum to n. (★★★) \n",
        "(**hint**: np.logical\\_and.reduce, np.mod)"
      ]
    },
    {
      "cell_type": "code",
      "execution_count": null,
      "metadata": {
        "id": "M-kjDA1r72Fv",
        "colab": {
          "base_uri": "https://localhost:8080/"
        },
        "outputId": "6bc172ea-d93d-448e-fb57-65b654697526"
      },
      "outputs": [
        {
          "output_type": "stream",
          "name": "stdout",
          "text": [
            "[[2. 0. 1. 1.]]\n"
          ]
        }
      ],
      "source": [
        "x = np.asarray([[1.0,0.0,3.0,8.0],\n",
        "                [2.0,0.0,1.0,1.0],\n",
        "                [1.5,2.5,1.0,0.0]])\n",
        "\n",
        "n=4\n",
        "M = np.logical_and.reduce(np.mod(x,1)==0,axis=-1)\n",
        "M &= (x.sum(axis=-1) ==n)\n",
        "print(x[M])"
      ]
    },
    {
      "cell_type": "markdown",
      "metadata": {
        "id": "7tbfjsbX72Fv"
      },
      "source": [
        "#### 100. Compute bootstrapped 95% confidence intervals for the mean of a 1D array X (i.e., resample the elements of an array with replacement N times, compute the mean of each sample, and then compute percentiles over the means). (★★★) \n",
        "(**hint**: np.percentile)"
      ]
    },
    {
      "cell_type": "code",
      "execution_count": null,
      "metadata": {
        "id": "zTflYAk-72Fv",
        "colab": {
          "base_uri": "https://localhost:8080/"
        },
        "outputId": "632a3036-33db-4617-81d3-ffee75c5eedb"
      },
      "outputs": [
        {
          "output_type": "stream",
          "name": "stdout",
          "text": [
            "[0.02115392 0.39771778]\n"
          ]
        }
      ],
      "source": [
        "x = np.random.randn(100)\n",
        "n = 1000\n",
        "idx = np.random.randint(0,x.size,(n,x.size))\n",
        "means = x[idx].mean(axis=1)\n",
        "confint = np.percentile(means,[2.5,97.5])\n",
        "print(confint)"
      ]
    }
  ],
  "metadata": {
    "kernelspec": {
      "display_name": "Python 3",
      "language": "python",
      "name": "python3"
    },
    "language_info": {
      "codemirror_mode": {
        "name": "ipython",
        "version": 3
      },
      "file_extension": ".py",
      "mimetype": "text/x-python",
      "name": "python",
      "nbconvert_exporter": "python",
      "pygments_lexer": "ipython3",
      "version": "3.8.3"
    },
    "colab": {
      "provenance": [],
      "collapsed_sections": [],
      "include_colab_link": true
    }
  },
  "nbformat": 4,
  "nbformat_minor": 0
}